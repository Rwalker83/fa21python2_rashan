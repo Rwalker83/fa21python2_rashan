{
 "cells": [
  {
   "cell_type": "code",
   "execution_count": 39,
   "id": "0632d178",
   "metadata": {},
   "outputs": [],
   "source": [
    "def draw_grid(x = 10, y = 10):\n",
    "    import numpy\n",
    "    grid = numpy.zeros((x, y), bool)\n",
    "    return grid"
   ]
  },
  {
   "cell_type": "code",
   "execution_count": 40,
   "id": "0a2115e9",
   "metadata": {},
   "outputs": [],
   "source": [
    "grid = draw_grid()"
   ]
  },
  {
   "cell_type": "code",
   "execution_count": 41,
   "id": "7ba1a407",
   "metadata": {},
   "outputs": [
    {
     "name": "stdout",
     "output_type": "stream",
     "text": [
      "[[False False False False False False False False False False]\n",
      " [False False False False False False False False False False]\n",
      " [False False False False False False False False False False]\n",
      " [False False False False False False False False False False]\n",
      " [False False False False False False False False False False]\n",
      " [False False False False False False False False False False]\n",
      " [False False False False False False False False False False]\n",
      " [False False False False False False False False False False]\n",
      " [False False False False False False False False False False]\n",
      " [False False False False False False False False False False]]\n"
     ]
    }
   ],
   "source": [
    "print(grid)"
   ]
  },
  {
   "cell_type": "code",
   "execution_count": 42,
   "id": "6896c8e4",
   "metadata": {},
   "outputs": [],
   "source": [
    "def draw(array, pixel=\"@\", empty=\"\"):\n",
    "    for row in array:\n",
    "        for column in row:\n",
    "            if column == True:\n",
    "                print(pixel, end='')\n",
    "            else:\n",
    "                print(empty, end='')\n",
    "        print()"
   ]
  },
  {
   "cell_type": "code",
   "execution_count": 43,
   "id": "cb7191da",
   "metadata": {},
   "outputs": [
    {
     "name": "stdout",
     "output_type": "stream",
     "text": [
      "\n",
      "\n",
      "\n",
      "\n",
      "\n",
      "\n",
      "\n",
      "\n",
      "\n",
      "\n"
     ]
    }
   ],
   "source": [
    "draw(grid)"
   ]
  },
  {
   "cell_type": "code",
   "execution_count": null,
   "id": "2f5c8482",
   "metadata": {},
   "outputs": [],
   "source": [
    "def menu():\n",
    "    print(\n",
    "    \"\"\"\n",
    "    \n",
    "    What do you want to do\n",
    "    \n",
    "    \n",
    "    \n",
    "    \n",
    "    \n",
    "    \"\"\"\n",
    "    )"
   ]
  },
  {
   "cell_type": "code",
   "execution_count": 31,
   "id": "ba868750",
   "metadata": {},
   "outputs": [
    {
     "name": "stdout",
     "output_type": "stream",
     "text": [
      "@@@@@@11@1\n",
      "1111111111\n",
      "1111111111\n",
      "111111@1@1\n",
      "@@@@@@@@@@\n",
      "@@@@@@@@@@\n",
      "@@@@@@@@@@\n",
      "@@@@@@@@@@\n",
      "@@@@@@@@@@\n",
      "@@@@@@@@@@\n"
     ]
    }
   ],
   "source": []
  },
  {
   "cell_type": "code",
   "execution_count": null,
   "id": "a5f9ac30",
   "metadata": {},
   "outputs": [],
   "source": []
  }
 ],
 "metadata": {
  "kernelspec": {
   "display_name": "Python 3",
   "language": "python",
   "name": "python3"
  },
  "language_info": {
   "codemirror_mode": {
    "name": "ipython",
    "version": 3
   },
   "file_extension": ".py",
   "mimetype": "text/x-python",
   "name": "python",
   "nbconvert_exporter": "python",
   "pygments_lexer": "ipython3",
   "version": "3.8.8"
  }
 },
 "nbformat": 4,
 "nbformat_minor": 5
}
