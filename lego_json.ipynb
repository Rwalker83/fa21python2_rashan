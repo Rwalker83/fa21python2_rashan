{
 "cells": [
  {
   "cell_type": "code",
   "execution_count": 1,
   "id": "6a57be0b",
   "metadata": {},
   "outputs": [],
   "source": [
    "# import libaries\n",
    "\n",
    "import csv\n",
    "import json\n",
    "import os.path"
   ]
  },
  {
   "cell_type": "code",
   "execution_count": 13,
   "id": "3bfd232d",
   "metadata": {},
   "outputs": [],
   "source": [
    "# Function: write_json\n",
    "# Write a JSON file\n",
    "# Purpose: Write a file from a dictonary in JSON format\n",
    "# Input: Path to write out file, A list of dictonaries\n",
    "# Output: A JSON formated file\n",
    "# Restrictions: Writes the file with forced UTF-8 encoding\n",
    "\n",
    "def write_json(file_path_out, list_dict):\n",
    "    with open(file_path_out, 'w', encoding=\"utf8\") as file_out:\n",
    "        json.dump(list_dict, file_out)\n",
    "    print(f'JSON file written to {file_path_out}')"
   ]
  },
  {
   "cell_type": "code",
   "execution_count": 14,
   "id": "0a5950de",
   "metadata": {},
   "outputs": [],
   "source": [
    "# Function: read_csv\n",
    "# Read a CSV file\n",
    "# Purpose: Intake data that is in .csv format\n",
    "# Input: Path to a singular file\n",
    "# Output: Return a list of dictionaries of read CSV\n",
    "# Restrictions: reads the file with forces UTF-8 encoding\n",
    "\n",
    "def read_csv(file_path_in):\n",
    "    with open(file_path_in, 'r', encoding=\"utf8\") as file_in:\n",
    "        file = csv.DictReader(file_in, delimiter=',')\n",
    "        data_s0 = []\n",
    "        for row in file:\n",
    "            data_s0.append(row)\n",
    "        data = data_s0\n",
    "    data_name = os.path.splitext(os.path.basename(file_path_in))[0]\n",
    "    file_path_out = f'json_files/data/{data_name}.json'\n",
    "    write_json(file_path_out, data)"
   ]
  },
  {
   "cell_type": "code",
   "execution_count": 15,
   "id": "96d0d4e2",
   "metadata": {},
   "outputs": [
    {
     "name": "stdout",
     "output_type": "stream",
     "text": [
      "JSON file written to json_files/data/sets.json\n"
     ]
    }
   ],
   "source": [
    "read_csv('raw_data/sets.csv')"
   ]
  },
  {
   "cell_type": "code",
   "execution_count": 16,
   "id": "5a7ef930",
   "metadata": {},
   "outputs": [],
   "source": [
    "# Function: read_json\n",
    "# Read a JSON file\n",
    "# Purpose: Intake data that is in .json format\n",
    "# Input: Path to a singular file\n",
    "# Output: Return a list of dictionaries of read JSON\n",
    "# Restrictions: reads the file with forces UTF-8 encoding\n",
    "\n",
    "def read_json(file_path):\n",
    "    with open(file_path, 'r', encoding=\"utf8\") as file_in:\n",
    "        data_s0 = json.load(file_in)\n",
    "        data = data_s0\n",
    "    return data"
   ]
  },
  {
   "cell_type": "code",
   "execution_count": 18,
   "id": "c2792240",
   "metadata": {},
   "outputs": [],
   "source": [
    "# Function: search_filter\n",
    "# Filter a JSON file\n",
    "# Purpose: Filter a JSON file based on a search, and return a filtered JSON\n",
    "# Input: A search JSON\n",
    "# Output: A JSON formatted results file and console display \n",
    "# Restrictions: (blank)\n",
    "\n",
    "def search_fliter(search_in):\n",
    "    choice_data = search_in['data']\n",
    "    choice_field = search_in['field']\n",
    "    choice_value = search_in['value']\n",
    "    choice_criteria = search_in['criteria']\n",
    "    file_path_in = f'json_files/data/{choice_data}.json'\n",
    "    json_in = read_json(file_path_in)\n",
    "    # if choice_criteria == 1:\n",
    "    filtered_s0 = filter(lambda f: f[choice_field] == choice_value, json_in)\n",
    "    filtered = list(filtered_s0)\n",
    "    file_path_out = f'json_files/output/{choice_data}_results.json'\n",
    "    write_json(file_path_out, filtered)\n"
   ]
  },
  {
   "cell_type": "code",
   "execution_count": 19,
   "id": "d29e6bed",
   "metadata": {},
   "outputs": [],
   "source": [
    "# Function: create_search\n",
    "# Create search criteria\n",
    "# Purpose: Write a JSON formatted search file\n",
    "# Input: User input\n",
    "# Output: A JSON formmated file that can be used by the search() funcation \n",
    "# Restrictions: Writes the file with forced UTF-8 encoding, This funcation is not error correcting and may \n",
    "#               fail with certain user inputs\n",
    "\n",
    "def create_search():\n",
    "    choice_data = input(f\"\"\" \n",
    "    Which data do you want to search (get records from): \n",
    "        1. sets\n",
    "    \n",
    "    \"\"\")\n",
    "    choice_data = 'sets'\n",
    "    \n",
    "    choice_filter = int(input(f\"\"\"\n",
    "    Do you want to filter \"{choice_data}\" \n",
    "        1. Yes\n",
    "        2. No\n",
    "    \n",
    "    \"\"\"))\n",
    "    \n",
    "    if choice_filter == 1:\n",
    "        choice_field = input(f\"\"\" \n",
    "    Which field do you want to search in \"{choice_data}\" data: \n",
    "        1. set_num\n",
    "\n",
    "        \"\"\")\n",
    "        choice_field = 'set_num'\n",
    "\n",
    "        choice_value = input(f\"\"\" \n",
    "    What is the value you are searching for in field: \"{choice_field}\" in \"{choice_data}\" data:\n",
    "\n",
    "        \"\"\")\n",
    "\n",
    "        choice_criteria_s0 = int(input(f\"\"\" \n",
    "    For value: \"{choice_value}\", What is the criteria for searching for in field: \"{choice_field}\" in \"{choice_data}\" data:\n",
    "        1. equal to\n",
    "        2. less than\n",
    "        3. greater than\n",
    "        4. all\n",
    "\n",
    "        \"\"\"))\n",
    "        if 1 <= choice_criteria_s0 <= 3:\n",
    "            if choice_criteria_s0 == 1:\n",
    "                choice_criteria = 'equals to'\n",
    "            elif choice_criteria_s0 == 2:\n",
    "                choice_criteria = 'less than'\n",
    "            elif choice_criteria_s0 == 3:\n",
    "                choice_criteria = 'greater than'\n",
    "            print(f\"\"\"Searching for data that is {choice_criteria} \"{choice_value}\" in field: \"{choice_field}\" from \"{choice_data}\" data\"\"\")\n",
    "        else:\n",
    "            choice_field = 'all'\n",
    "            choice_value = 'all'\n",
    "            choice_criteria = 'all'\n",
    "            print(f\"\"\"Getting all records from \"{choice_data}\" data\"\"\")\n",
    "    else:\n",
    "        choice_field = 'all'\n",
    "        choice_value = 'all'\n",
    "        choice_criteria = 'all'\n",
    "        print(f\"\"\"Getting all records from \"{choice_data}\" data\"\"\")\n",
    "            \n",
    "    search = {'data': choice_data, 'field': choice_field, 'value': choice_value, 'criteria': choice_criteria}\n",
    "    write_json('json_files/search/search.json', search)\n",
    "    print(search)"
   ]
  },
  {
   "cell_type": "code",
   "execution_count": 23,
   "id": "913d6284",
   "metadata": {},
   "outputs": [],
   "source": [
    "# Function: search\n",
    "# Search\n",
    "# Purpose: filter JSON based on search.json\n",
    "# Input: Expects criteria to be passed, if not looks for search.json in default location, \n",
    "#        if not found asks if search should be created \n",
    "# Output: A JSON formmated file that can be used by the search() funcation \n",
    "# Restrictions: (blank)\n",
    "\n",
    "def search(choice_data = 'NE', choice_field = 'NE', choice_value= 'NE', choice_criteria = 'NE'):\n",
    "    try:\n",
    "        json_in = read_json('json_files/search/search.json')\n",
    "        search_fliter(json_in)\n",
    "    except:\n",
    "        print(\"Cannot find search.json\")\n",
    "        choice_s = int(input(\"\"\"\n",
    "    Would you like to create a search?:\n",
    "        1. Yes\n",
    "        2. No\n",
    "        \n",
    "        \"\"\"))\n",
    "        if choice_s == 1:\n",
    "            create_search()\n",
    "            search()\n",
    "        else:\n",
    "            print(\"Goodbye\")"
   ]
  },
  {
   "cell_type": "code",
   "execution_count": 24,
   "id": "4085d74b",
   "metadata": {},
   "outputs": [
    {
     "name": "stdout",
     "output_type": "stream",
     "text": [
      "JSON file written to json_files/output/sets_results.json\n"
     ]
    }
   ],
   "source": [
    "search()"
   ]
  },
  {
   "cell_type": "code",
   "execution_count": null,
   "id": "ac9af5ac",
   "metadata": {},
   "outputs": [],
   "source": []
  }
 ],
 "metadata": {
  "kernelspec": {
   "display_name": "Python 3",
   "language": "python",
   "name": "python3"
  },
  "language_info": {
   "codemirror_mode": {
    "name": "ipython",
    "version": 3
   },
   "file_extension": ".py",
   "mimetype": "text/x-python",
   "name": "python",
   "nbconvert_exporter": "python",
   "pygments_lexer": "ipython3",
   "version": "3.8.8"
  }
 },
 "nbformat": 4,
 "nbformat_minor": 5
}
