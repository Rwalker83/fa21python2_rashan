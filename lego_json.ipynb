{
 "cells": [
  {
   "cell_type": "code",
   "execution_count": 63,
   "id": "6a57be0b",
   "metadata": {},
   "outputs": [],
   "source": [
    "# import libaries\n",
    "\n",
    "import csv\n",
    "import json\n",
    "import os.path"
   ]
  },
  {
   "cell_type": "code",
   "execution_count": null,
   "id": "a2665e59",
   "metadata": {},
   "outputs": [],
   "source": [
    "# paths\n",
    "\n",
    "raw_data_path = 'raw_data/'\n",
    "search_path = 'json_files/search/search.json'"
   ]
  },
  {
   "cell_type": "code",
   "execution_count": 64,
   "id": "82fc4b48",
   "metadata": {},
   "outputs": [],
   "source": [
    "# Function: write_json\n",
    "# Write a JSON file\n",
    "# Purpose: Write a file from a dictonary in JSON format\n",
    "# Input: Path to write out file, A list of dictonaries\n",
    "# Output: A JSON formated file\n",
    "# Restrictions: Writes the file with forced UTF-8 encoding\n",
    "\n",
    "def write_json(file_path_out, list_dict):\n",
    "    with open(file_path_out, 'w', encoding=\"utf8\") as file_out:\n",
    "        json.dump(list_dict, file_out)\n",
    "    print(f'JSON file written to {file_path_out}')"
   ]
  },
  {
   "cell_type": "code",
   "execution_count": 65,
   "id": "61e0a122",
   "metadata": {},
   "outputs": [],
   "source": [
    "# Function: read_csv\n",
    "# Read a CSV file\n",
    "# Purpose: Intake data that is in .csv format\n",
    "# Input: Path to a singular file\n",
    "# Output: Return a list of dictionaries of read CSV\n",
    "# Restrictions: reads the file with forces UTF-8 encoding\n",
    "\n",
    "def read_csv(file_path_in):\n",
    "    with open(file_path_in, 'r', encoding=\"utf8\") as file_in:\n",
    "        file = csv.DictReader(file_in, delimiter=',')\n",
    "        data_s0 = []\n",
    "        for row in file:\n",
    "            data_s0.append(row)\n",
    "        data = data_s0\n",
    "    data_name = os.path.splitext(os.path.basename(file_path_in))[0]\n",
    "    file_path_out = f'json_files/data/{data_name}.json'\n",
    "    write_json(file_path_out, data)"
   ]
  },
  {
   "cell_type": "code",
   "execution_count": 66,
   "id": "935ac64e",
   "metadata": {},
   "outputs": [],
   "source": [
    "def convert_csv_json():\n",
    "    file_list = os.listdir('raw_data/')\n",
    "    for file in file_list:\n",
    "        read_csv(f'raw_data/{file}')"
   ]
  },
  {
   "cell_type": "code",
   "execution_count": 67,
   "id": "1edf4ef6",
   "metadata": {},
   "outputs": [],
   "source": [
    "# Function: read_json\n",
    "# Read a JSON file\n",
    "# Purpose: Intake data that is in .json format\n",
    "# Input: Path to a singular file\n",
    "# Output: Return a list of dictionaries of read JSON\n",
    "# Restrictions: reads the file with forces UTF-8 encoding\n",
    "\n",
    "def read_json(file_path):\n",
    "    with open(file_path, 'r', encoding=\"utf8\") as file_in:\n",
    "        data_s0 = json.load(file_in)\n",
    "        data = data_s0\n",
    "    return data"
   ]
  },
  {
   "cell_type": "code",
   "execution_count": 91,
   "id": "a8e7fedf",
   "metadata": {},
   "outputs": [],
   "source": [
    "# Function: search_filter\n",
    "# Filter a JSON file\n",
    "# Purpose: Filter a JSON file based on a search, and return a filtered JSON\n",
    "# Input: A search JSON\n",
    "# Output: A JSON formatted results file and console display \n",
    "# Restrictions: (blank)\n",
    "\n",
    "def search_fliter(search_in):\n",
    "    choice_data = search_in['data']\n",
    "    choice_field = search_in['field']\n",
    "    choice_value = search_in['value']\n",
    "    choice_criteria = search_in['criteria']\n",
    "    file_path_in = f'json_files/data/{choice_data}.json'\n",
    "    json_in = read_json(file_path_in)\n",
    "    if choice_criteria == 1:\n",
    "        filtered_s0 = filter(lambda f: f[choice_field] == choice_value, json_in)\n",
    "    elif choice_criteria == 2:\n",
    "        filtered_s0 = filter(lambda f: f[choice_field] <= choice_value, json_in)\n",
    "    elif choice_criteria == 3:\n",
    "        filtered_s0 = filter(lambda f: f[choice_field] >= choice_value, json_in)\n",
    "    else:\n",
    "        filtered_s0 = json_in\n",
    "    filtered = list(filtered_s0)\n",
    "    file_path_out = f'json_files/output/{choice_data}_results.json'\n",
    "    write_json(file_path_out, filtered)\n"
   ]
  },
  {
   "cell_type": "code",
   "execution_count": 69,
   "id": "f4771c0e",
   "metadata": {},
   "outputs": [],
   "source": [
    "def choose_data():\n",
    "    file_list = os.listdir('json_files/data')\n",
    "    files = [os.path.splitext(filename)[0] for filename in file_list]\n",
    "    print('Which data do you want to search (get records from):')\n",
    "    string = \"\"\n",
    "    for i, name in enumerate(files):\n",
    "        string_s0 = f'\\t{i+1}. {name}\\n'\n",
    "        string += string_s0\n",
    "    choice_data_s0 = int(input(string))\n",
    "    choice_data = files[choice_data_s0-1]\n",
    "    print(f\"\"\"Chose '{choice_data}' data\"\"\")\n",
    "    return choice_data\n",
    "    "
   ]
  },
  {
   "cell_type": "code",
   "execution_count": 70,
   "id": "419663e8",
   "metadata": {},
   "outputs": [],
   "source": [
    "def choose_field(choice_data):\n",
    "    file_path_in = f'json_files/data/{choice_data}.json'\n",
    "    fields = list(read_json(file_path_in)[0].keys())\n",
    "    print('Which field do you want to search in \"{choice_data}\" data: ')\n",
    "    string = \"\"\n",
    "    for i, name in enumerate(fields):\n",
    "        string_s0 = f'\\t{i+1}. {name}\\n'\n",
    "        string += string_s0\n",
    "    choice_field_s0 = int(input(string))\n",
    "    choice_field = fields[choice_field_s0-1]\n",
    "    print(f\"\"\"Chose field: {choice_field} from '{choice_data}' data\"\"\")\n",
    "    return choice_field"
   ]
  },
  {
   "cell_type": "code",
   "execution_count": 71,
   "id": "f7cf7548",
   "metadata": {},
   "outputs": [],
   "source": [
    "def choose_critera(choice_data, choice_field, choice_value):\n",
    "    choice_criteria = int(input(f\"\"\" \n",
    "    For value: \"{choice_value}\", What is the criteria for searching for in field: \"{choice_field}\" in \"{choice_data}\" data:\n",
    "        1. equal to\n",
    "        2. less than or equal to\n",
    "        3. greater than or equal to\n",
    "        4. all\n",
    "\n",
    "        \"\"\"))\n",
    "    if 1 <= choice_criteria <= 3:\n",
    "        if choice_criteria == 1:\n",
    "            print(f\"\"\"Creating a search for data that is equal to \"{choice_value}\" in field: \"{choice_field}\" from \"{choice_data}\" data\"\"\")\n",
    "        elif choice_criteria == 2:\n",
    "            print(f\"\"\"Creating a search for data that is less than or equal to \"{choice_value}\" in field: \"{choice_field}\" from \"{choice_data}\" data\"\"\")\n",
    "        elif choice_criteria == 3:\n",
    "            print(f\"\"\"Creating a search for data that is greater than or equal to \"{choice_value}\" in field: \"{choice_field}\" from \"{choice_data}\" data\"\"\")\n",
    "\n",
    "    else:\n",
    "        choice_criteria = 'all'\n",
    "        print(f\"\"\"Creating a search for all records from \"{choice_data}\" data\"\"\")\n",
    "    return choice_criteria\n"
   ]
  },
  {
   "cell_type": "code",
   "execution_count": 78,
   "id": "499b5b63",
   "metadata": {},
   "outputs": [],
   "source": [
    "# Function: create_search\n",
    "# Create search criteria\n",
    "# Purpose: Write a JSON formatted search file\n",
    "# Input: User input\n",
    "# Output: A JSON formmated file that can be used by the search() funcation \n",
    "# Restrictions: Writes the file with forced UTF-8 encoding, This funcation is not error correcting and may \n",
    "#               fail with certain user inputs\n",
    "\n",
    "def create_search():\n",
    "    choice_data = choose_data()\n",
    "    \n",
    "    choice_filter = int(input(f\"\"\"\n",
    "    Do you want to filter \"{choice_data}\" \n",
    "        1. Yes\n",
    "        2. No\n",
    "    \n",
    "    \"\"\"))\n",
    "    \n",
    "    if choice_filter == 1:\n",
    "        choice_field = choose_field(choice_data)\n",
    "        choice_value = input(f\"\"\" \n",
    "    What is the value you are searching for in field: \"{choice_field}\" in \"{choice_data}\" data:\n",
    "\n",
    "        \"\"\")\n",
    "        choice_criteria = choose_critera(choice_data, choice_field, choice_value)\n",
    "    else:\n",
    "        choice_field = 'all'\n",
    "        choice_value = 'all'\n",
    "        choice_criteria = 'all'\n",
    "        print(f\"\"\"Getting all records from \"{choice_data}\" data\"\"\")\n",
    "            \n",
    "    search = {'data': choice_data, 'field': choice_field, 'value': choice_value, 'criteria': choice_criteria}\n",
    "    write_json(search_path, search)\n",
    "    print(search)"
   ]
  },
  {
   "cell_type": "code",
   "execution_count": 73,
   "id": "6534e7fb",
   "metadata": {},
   "outputs": [],
   "source": [
    "# Function: search\n",
    "# Search\n",
    "# Purpose: filter JSON based on search.json\n",
    "# Input: Expects criteria to be passed, if not looks for search.json in default location, \n",
    "#        if not found asks if search should be created \n",
    "# Output: A JSON formmated file that can be used by the search() funcation \n",
    "# Restrictions: (blank)\n",
    "\n",
    "def search(choice_data = 'NE', choice_field = 'NE', choice_value= 'NE', choice_criteria = 'NE'):\n",
    "    try:\n",
    "        json_in = read_json(search_path)\n",
    "        search_fliter(json_in)\n",
    "    except:\n",
    "        print(\"Cannot find search.json\")\n",
    "        choice_s = int(input(\"\"\"\n",
    "    Would you like to create a search?:\n",
    "        1. Yes\n",
    "        2. No\n",
    "        \n",
    "        \"\"\"))\n",
    "        if choice_s == 1:\n",
    "            create_search()\n",
    "            search()\n",
    "        else:\n",
    "            print(\"Goodbye\")"
   ]
  },
  {
   "cell_type": "code",
   "execution_count": 84,
   "id": "1322d5de",
   "metadata": {},
   "outputs": [],
   "source": [
    "def clear_search():\n",
    "    if os.path.exists(search_path):\n",
    "        os.remove(search_path)\n",
    "        print('Search Cleared')\n",
    "    else:\n",
    "        print(\"Search already cleared\")"
   ]
  },
  {
   "cell_type": "code",
   "execution_count": 74,
   "id": "9b10f167",
   "metadata": {},
   "outputs": [
    {
     "name": "stdout",
     "output_type": "stream",
     "text": [
      "JSON file written to json_files/data/colors.json\n",
      "JSON file written to json_files/data/elements.json\n",
      "JSON file written to json_files/data/inventories.json\n",
      "JSON file written to json_files/data/inventory_minifigs.json\n",
      "JSON file written to json_files/data/inventory_parts.json\n",
      "JSON file written to json_files/data/inventory_sets.json\n",
      "JSON file written to json_files/data/minifigs.json\n",
      "JSON file written to json_files/data/parts.json\n",
      "JSON file written to json_files/data/part_categories.json\n",
      "JSON file written to json_files/data/part_relationships.json\n",
      "JSON file written to json_files/data/sets.json\n",
      "JSON file written to json_files/data/themes.json\n"
     ]
    }
   ],
   "source": [
    "convert_csv_json()"
   ]
  },
  {
   "cell_type": "code",
   "execution_count": 89,
   "id": "aeb52f9e",
   "metadata": {},
   "outputs": [
    {
     "name": "stdout",
     "output_type": "stream",
     "text": [
      "Search Cleared\n"
     ]
    }
   ],
   "source": [
    "clear_search()"
   ]
  },
  {
   "cell_type": "code",
   "execution_count": 92,
   "id": "e90eb1d4",
   "metadata": {},
   "outputs": [
    {
     "name": "stdout",
     "output_type": "stream",
     "text": [
      "JSON file written to json_files/output/sets_results.json\n"
     ]
    }
   ],
   "source": [
    "search()"
   ]
  },
  {
   "cell_type": "code",
   "execution_count": null,
   "id": "4f72e7c9",
   "metadata": {},
   "outputs": [],
   "source": []
  }
 ],
 "metadata": {
  "kernelspec": {
   "display_name": "Python 3",
   "language": "python",
   "name": "python3"
  },
  "language_info": {
   "codemirror_mode": {
    "name": "ipython",
    "version": 3
   },
   "file_extension": ".py",
   "mimetype": "text/x-python",
   "name": "python",
   "nbconvert_exporter": "python",
   "pygments_lexer": "ipython3",
   "version": "3.8.8"
  }
 },
 "nbformat": 4,
 "nbformat_minor": 5
}
