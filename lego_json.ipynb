{
 "cells": [
  {
   "cell_type": "code",
   "execution_count": 15,
   "id": "6a57be0b",
   "metadata": {},
   "outputs": [],
   "source": [
    "# import libaries\n",
    "\n",
    "import csv\n",
    "import json"
   ]
  },
  {
   "cell_type": "code",
   "execution_count": 24,
   "id": "bd9ae86e",
   "metadata": {},
   "outputs": [],
   "source": [
    "# Function: read_csv\n",
    "# Read a CSV file\n",
    "# Purpose: Intake data that is in .csv format\n",
    "# Input: Path to a singular file\n",
    "# Output: Return a list of dictionaries of read CSV\n",
    "# Restrictions: reads the file with forces UTF-8 encoding\n",
    "\n",
    "def read_csv(file_path):\n",
    "    with open(file_path, 'r', encoding=\"utf8\") as file_in:\n",
    "        file = csv.DictReader(file_in, delimiter=',')\n",
    "        data_s0 = []\n",
    "        for row in file:\n",
    "            data_s0.append(row)\n",
    "        data = data_s0\n",
    "    return data"
   ]
  },
  {
   "cell_type": "code",
   "execution_count": 78,
   "id": "09169e66",
   "metadata": {},
   "outputs": [],
   "source": [
    "# Function: read_json\n",
    "# Read a JSON file\n",
    "# Purpose: Intake data that is in .json format\n",
    "# Input: Path to a singular file\n",
    "# Output: Return a list of dictionaries of read JSON\n",
    "# Restrictions: reads the file with forces UTF-8 encoding\n",
    "\n",
    "def read_json(file_path):\n",
    "    with open(file_path, 'r', encoding=\"utf8\") as file_in:\n",
    "        data_s0 = json.load(file_in)\n",
    "        data = data_s0\n",
    "    return data"
   ]
  },
  {
   "cell_type": "code",
   "execution_count": 53,
   "id": "438431d7",
   "metadata": {},
   "outputs": [],
   "source": [
    "# Function: write_json\n",
    "# Write a JSON file\n",
    "# Purpose: Write a file from a dictonary in JSON format\n",
    "# Input: Path to write out file, A list of dictonaries\n",
    "# Output: A JSON formated file\n",
    "# Restrictions: Writes the file with forced UTF-8 encoding\n",
    "\n",
    "def write_json(file_path, list_dict):\n",
    "    with open(file_path, 'w', encoding=\"utf8\") as file_out:\n",
    "        json.dump(list_dict, file_out)\n",
    "    print(f'JSON file written to {file_out}')"
   ]
  },
  {
   "cell_type": "code",
   "execution_count": 75,
   "id": "c9d26c5b",
   "metadata": {},
   "outputs": [],
   "source": [
    "# Function: create_search\n",
    "# Create search criteria\n",
    "# Purpose: Write a JSON formatted search file\n",
    "# Input: User input\n",
    "# Output: A JSON formmated file that can be used by the search() funcation \n",
    "# Restrictions: Writes the file with forced UTF-8 encoding, This funcation is not error correcting and may \n",
    "#               fail with certain user inputs\n",
    "\n",
    "def create_search():\n",
    "    choice_data = input(f\"\"\" \n",
    "    Which data do you want to search (get records from): \n",
    "        1. sets\n",
    "    \n",
    "    \"\"\")\n",
    "    choice_data = 'sets'\n",
    "    \n",
    "    if int(input(f\"\"\"\n",
    "    Do you want to filter \"{choice_data}\" \n",
    "        1. Yes\n",
    "        2. No\n",
    "    \n",
    "    \"\"\")) == 1:\n",
    "        choice_field = input(f\"\"\" \n",
    "    Which field do you want to search in \"{choice_data}\" data: \n",
    "        1. set_num\n",
    "\n",
    "        \"\"\")\n",
    "        choice_field = 'set_num'\n",
    "\n",
    "        choice_value = input(f\"\"\" \n",
    "    What is the value you are searching for in field: \"{choice_field}\" in \"{choice_data}\" data:\n",
    "\n",
    "        \"\"\")\n",
    "\n",
    "        choice_criteria_s0 = int(input(f\"\"\" \n",
    "    For value: \"{choice_value}\", What is the criteria for searching for in field: \"{choice_field}\" in \"{choice_data}\" data:\n",
    "        1. equal to\n",
    "        2. less than\n",
    "        3. greater than\n",
    "        4. all\n",
    "\n",
    "        \"\"\"))\n",
    "        if 1 <= choice_criteria_s0 <= 3:\n",
    "            if choice_criteria_s0 == 1:\n",
    "                choice_criteria = 'equals to'\n",
    "            elif choice_criteria_s0 == 2:\n",
    "                choice_criteria = 'less than'\n",
    "            elif choice_criteria_s0 == 3:\n",
    "                choice_criteria = 'greater than'\n",
    "            print(f\"\"\"Searching for data that is {choice_criteria} \"{choice_value}\" in field: \"{choice_field}\" from \"{choice_data}\" data\"\"\")\n",
    "        else:\n",
    "            choice_field = 'all'\n",
    "            choice_value = 'all'\n",
    "            choice_criteria = 'all'\n",
    "            print(f\"\"\"Getting all records from \"{choice_data}\" data\"\"\")\n",
    "    else:\n",
    "        choice_field = 'all'\n",
    "        choice_value = 'all'\n",
    "        choice_criteria = 'all'\n",
    "        print(f\"\"\"Getting all records from \"{choice_data}\" data\"\"\")\n",
    "            \n",
    "    search = {'data': choice_data, 'field': choice_field, 'value': choice_value, 'criteria': choice_criteria}\n",
    "    write_json('json_files/search/search.json', search)\n",
    "    print(search)\n",
    "    print(type(search))"
   ]
  },
  {
   "cell_type": "code",
   "execution_count": null,
   "id": "8d36b095",
   "metadata": {},
   "outputs": [],
   "source": [
    "read_json()"
   ]
  }
 ],
 "metadata": {
  "kernelspec": {
   "display_name": "Python 3",
   "language": "python",
   "name": "python3"
  },
  "language_info": {
   "codemirror_mode": {
    "name": "ipython",
    "version": 3
   },
   "file_extension": ".py",
   "mimetype": "text/x-python",
   "name": "python",
   "nbconvert_exporter": "python",
   "pygments_lexer": "ipython3",
   "version": "3.8.8"
  }
 },
 "nbformat": 4,
 "nbformat_minor": 5
}
