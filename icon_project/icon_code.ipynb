{
 "cells": [
  {
   "cell_type": "code",
   "execution_count": 39,
   "id": "621cd8f3",
   "metadata": {},
   "outputs": [],
   "source": [
    "def draw_grid(x = 10, y = 10):\n",
    "    import numpy\n",
    "    grid = numpy.zeros((x, y), bool)\n",
    "    return grid"
   ]
  },
  {
   "cell_type": "code",
   "execution_count": 40,
   "id": "507ba4f1",
   "metadata": {},
   "outputs": [],
   "source": [
    "grid = draw_grid()"
   ]
  },
  {
   "cell_type": "code",
   "execution_count": 41,
   "id": "93766f0d",
   "metadata": {},
   "outputs": [
    {
     "name": "stdout",
     "output_type": "stream",
     "text": [
      "[[False False False False False False False False False False]\n",
      " [False False False False False False False False False False]\n",
      " [False False False False False False False False False False]\n",
      " [False False False False False False False False False False]\n",
      " [False False False False False False False False False False]\n",
      " [False False False False False False False False False False]\n",
      " [False False False False False False False False False False]\n",
      " [False False False False False False False False False False]\n",
      " [False False False False False False False False False False]\n",
      " [False False False False False False False False False False]]\n"
     ]
    }
   ],
   "source": [
    "print(grid)\n",
    "\n",
    "def draw(array, pixel=\"@\", empty=\"\"):\n",
    "    for row in array:\n",
    "        for column in row:\n",
    "            if column == True:\n",
    "                print(pixel, end='')\n",
    "            else:\n",
    "                print(empty, end='')\n",
    "        print()"
   ]
  },
  {
   "cell_type": "code",
   "execution_count": 237,
   "id": "089021cd",
   "metadata": {},
   "outputs": [],
   "source": [
    "def read_file(file_path = 'file_row_comma.txt'):\n",
    "    with open(file_path, 'r', encoding='utf-8') as file_in:\n",
    "        file_s0 = file_in.read().splitlines()\n",
    "        if len(file_s0) == 1:\n",
    "            print(f'There appears to be only 1 line in {file_path}.')\n",
    "            seperator = input(f'What seperator is used in {file_path}?: ') or ''\n",
    "            \n",
    "    file = file_s0\n",
    "    return file"
   ]
  },
  {
   "cell_type": "code",
   "execution_count": 238,
   "id": "54213fce",
   "metadata": {},
   "outputs": [],
   "source": [
    "test = read_file('file_line_tab.txt')"
   ]
  },
  {
   "cell_type": "code",
   "execution_count": 239,
   "id": "0c84ac12",
   "metadata": {},
   "outputs": [
    {
     "name": "stdout",
     "output_type": "stream",
     "text": [
      "1\n"
     ]
    }
   ],
   "source": [
    "print(len(test))"
   ]
  },
  {
   "cell_type": "code",
   "execution_count": 42,
   "id": "4cf6a456",
   "metadata": {},
   "outputs": [],
   "source": [
    "def draw(array, pixel=\"@\", empty=\"\"):\n",
    "    for row in array:\n",
    "        for column in row:\n",
    "            if column == True:\n",
    "                print(pixel, end='')\n",
    "            else:\n",
    "                print(empty, end='')\n",
    "        print()"
   ]
  },
  {
   "cell_type": "code",
   "execution_count": 43,
   "id": "88a967a9",
   "metadata": {},
   "outputs": [
    {
     "name": "stdout",
     "output_type": "stream",
     "text": [
      "\n",
      "\n",
      "\n",
      "\n",
      "\n",
      "\n",
      "\n",
      "\n",
      "\n",
      "\n"
     ]
    }
   ],
   "source": [
    "draw(grid)"
   ]
  },
  {
   "cell_type": "code",
   "execution_count": null,
   "id": "c58a038b",
   "metadata": {},
   "outputs": [],
   "source": [
    "def menu():\n",
    "    print(\n",
    "    \"\"\"\n",
    "    \n",
    "    What do you want to do\n",
    "    \n",
    "    \n",
    "    \n",
    "    \n",
    "    \n",
    "    \"\"\"\n",
    "    )"
   ]
  },
  {
   "cell_type": "code",
   "execution_count": 31,
   "id": "b0a27e8f",
   "metadata": {},
   "outputs": [
    {
     "name": "stdout",
     "output_type": "stream",
     "text": [
      "@@@@@@11@1\n",
      "1111111111\n",
      "1111111111\n",
      "111111@1@1\n",
      "@@@@@@@@@@\n",
      "@@@@@@@@@@\n",
      "@@@@@@@@@@\n",
      "@@@@@@@@@@\n",
      "@@@@@@@@@@\n",
      "@@@@@@@@@@\n"
     ]
    }
   ],
   "source": []
  },
  {
   "cell_type": "code",
   "execution_count": null,
   "id": "af2b53b5",
   "metadata": {},
   "outputs": [],
   "source": []
  }
 ],
 "metadata": {
  "kernelspec": {
   "display_name": "Python 3",
   "language": "python",
   "name": "python3"
  },
  "language_info": {
   "codemirror_mode": {
    "name": "ipython",
    "version": 3
   },
   "file_extension": ".py",
   "mimetype": "text/x-python",
   "name": "python",
   "nbconvert_exporter": "python",
   "pygments_lexer": "ipython3",
   "version": "3.8.8"
  }
 },
 "nbformat": 4,
 "nbformat_minor": 5
}
