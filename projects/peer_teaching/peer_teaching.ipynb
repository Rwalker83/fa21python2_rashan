{
 "cells": [
  {
   "cell_type": "code",
   "execution_count": null,
   "id": "aa36e961",
   "metadata": {},
   "outputs": [],
   "source": [
    "# A lambda function is a small anonymous function.\n",
    "# A lambda function can take any number of arguments, but can only have one expression.\n",
    "###\n",
    "# Source: https://www.w3schools.com/python/python_lambda.asp\n",
    "\n",
    "# Python supports simple anonymous functions through the lambda form.\n",
    "# The executable body of the lambda must be an expression and (censored). \n",
    "# The value returned by the lambda is the value of the contained expression. \n",
    "# Lambda forms can be used anywhere ordinary functions can.\n",
    "###\n",
    "# Source: https://en.wikipedia.org/wiki/Anonymous_function#Python\n",
    "\n",
    "# Form\n",
    "# f = lambda x: expression(x)\n"
   ]
  },
  {
   "cell_type": "code",
   "execution_count": 1,
   "id": "f505649e",
   "metadata": {},
   "outputs": [],
   "source": [
    "# Regular Function\n",
    "# Same ole, Same old\n",
    "def double_f(x):\n",
    "    return x * 2"
   ]
  },
  {
   "cell_type": "code",
   "execution_count": 2,
   "id": "01d887d9",
   "metadata": {},
   "outputs": [
    {
     "data": {
      "text/plain": [
       "4"
      ]
     },
     "execution_count": 2,
     "metadata": {},
     "output_type": "execute_result"
    }
   ],
   "source": [
    "double_f(2)"
   ]
  },
  {
   "cell_type": "code",
   "execution_count": 15,
   "id": "c168ef0c",
   "metadata": {},
   "outputs": [],
   "source": [
    "# Function with lambda\n",
    "# What happens?\n",
    "def double(n = 2):\n",
    "    return lambda x: x * n"
   ]
  },
  {
   "cell_type": "code",
   "execution_count": 16,
   "id": "dd7c6131",
   "metadata": {},
   "outputs": [],
   "source": [
    "dd = double(3)"
   ]
  },
  {
   "cell_type": "code",
   "execution_count": 17,
   "id": "eb8398a4",
   "metadata": {},
   "outputs": [
    {
     "data": {
      "text/plain": [
       "18"
      ]
     },
     "execution_count": 17,
     "metadata": {},
     "output_type": "execute_result"
    }
   ],
   "source": [
    "dd(6)"
   ]
  },
  {
   "cell_type": "code",
   "execution_count": null,
   "id": "6cb4cd72",
   "metadata": {},
   "outputs": [],
   "source": [
    "### Create a lambda that add 2 to number ((x=2)+2 = 4)"
   ]
  },
  {
   "cell_type": "code",
   "execution_count": 18,
   "id": "33fdb363",
   "metadata": {},
   "outputs": [],
   "source": [
    "f = lambda x: x + 2"
   ]
  },
  {
   "cell_type": "code",
   "execution_count": 19,
   "id": "7469d9bd",
   "metadata": {},
   "outputs": [
    {
     "data": {
      "text/plain": [
       "22"
      ]
     },
     "execution_count": 19,
     "metadata": {},
     "output_type": "execute_result"
    }
   ],
   "source": [
    "f(20)"
   ]
  },
  {
   "cell_type": "code",
   "execution_count": 20,
   "id": "a6ac082a",
   "metadata": {},
   "outputs": [],
   "source": [
    "# Yoda translator\n",
    "# Another simple function\n",
    "\n",
    "def yoda_f(x, z, y):\n",
    "    print(f'{x} {y} {z}.')"
   ]
  },
  {
   "cell_type": "code",
   "execution_count": 21,
   "id": "2261ff88",
   "metadata": {},
   "outputs": [
    {
     "name": "stdout",
     "output_type": "stream",
     "text": [
      "I like python.\n"
     ]
    }
   ],
   "source": [
    "yoda_f('I', 'python', 'like')"
   ]
  },
  {
   "cell_type": "code",
   "execution_count": 22,
   "id": "a5189a8a",
   "metadata": {},
   "outputs": [],
   "source": [
    "yoda = lambda x, z, y: print(f'{x} {y} {z}')"
   ]
  },
  {
   "cell_type": "code",
   "execution_count": 23,
   "id": "930493e8",
   "metadata": {},
   "outputs": [
    {
     "name": "stdout",
     "output_type": "stream",
     "text": [
      "I like python\n"
     ]
    }
   ],
   "source": [
    "yoda(\"I\", \"python\",\"like\")"
   ]
  },
  {
   "cell_type": "code",
   "execution_count": null,
   "id": "5b2c553a",
   "metadata": {},
   "outputs": [],
   "source": [
    "### Create a lamda that uses more than 1 variable (Can be addition)"
   ]
  },
  {
   "cell_type": "code",
   "execution_count": 26,
   "id": "630d7331",
   "metadata": {},
   "outputs": [],
   "source": [
    "sum_o = lambda x, y: x * y"
   ]
  },
  {
   "cell_type": "code",
   "execution_count": 27,
   "id": "1c3db1bc",
   "metadata": {},
   "outputs": [
    {
     "data": {
      "text/plain": [
       "6"
      ]
     },
     "execution_count": 27,
     "metadata": {},
     "output_type": "execute_result"
    }
   ],
   "source": [
    "sum_o(2, 3)"
   ]
  },
  {
   "cell_type": "code",
   "execution_count": 29,
   "id": "05074b41",
   "metadata": {},
   "outputs": [],
   "source": [
    "# A simple list of strings\n",
    "# Just a part of a song you may have heard of\n",
    "\n",
    "j5_1 = [3, 2, 1, 'as', 'easy', 'c', 'b', 'a']"
   ]
  },
  {
   "cell_type": "code",
   "execution_count": 30,
   "id": "d2dacc94",
   "metadata": {},
   "outputs": [
    {
     "data": {
      "text/plain": [
       "['a', 'b', 'c', 'easy', 'as', 1, 2, 3]"
      ]
     },
     "execution_count": 30,
     "metadata": {},
     "output_type": "execute_result"
    }
   ],
   "source": [
    "j5_1[::-1]"
   ]
  },
  {
   "cell_type": "code",
   "execution_count": 31,
   "id": "26a6a221",
   "metadata": {},
   "outputs": [],
   "source": [
    "lyric = lambda x: x[::-1]"
   ]
  },
  {
   "cell_type": "code",
   "execution_count": 32,
   "id": "7b4d8c4d",
   "metadata": {},
   "outputs": [
    {
     "data": {
      "text/plain": [
       "['a', 'b', 'c', 'easy', 'as', 1, 2, 3]"
      ]
     },
     "execution_count": 32,
     "metadata": {},
     "output_type": "execute_result"
    }
   ],
   "source": [
    "lyric(j5_1)"
   ]
  },
  {
   "cell_type": "code",
   "execution_count": 33,
   "id": "1278230b",
   "metadata": {},
   "outputs": [],
   "source": [
    "# Another simple list of strings\n",
    "j5_2 = ['Mi', 'Re', 'Do', 'as', 'simple', 'Ah']"
   ]
  },
  {
   "cell_type": "code",
   "execution_count": 34,
   "id": "c52c51ac",
   "metadata": {},
   "outputs": [],
   "source": [
    "# Another simple list of strings\n",
    "j5_3 = ['girl', 'me', 'and', 'you', 'three', 'two', 'one', 'c', 'b', 'a']"
   ]
  },
  {
   "cell_type": "code",
   "execution_count": 35,
   "id": "434032e6",
   "metadata": {},
   "outputs": [],
   "source": [
    "j5 = [j5_1, j5_2, j5_3]"
   ]
  },
  {
   "cell_type": "code",
   "execution_count": 36,
   "id": "e76bda3b",
   "metadata": {},
   "outputs": [],
   "source": [
    "def song(x):\n",
    "    verse = lambda y: print(y[::-1])\n",
    "    for y in x:\n",
    "        verse(y)\n",
    "        "
   ]
  },
  {
   "cell_type": "code",
   "execution_count": 37,
   "id": "a2e28e46",
   "metadata": {},
   "outputs": [
    {
     "name": "stdout",
     "output_type": "stream",
     "text": [
      "['a', 'b', 'c', 'easy', 'as', 1, 2, 3]\n",
      "['Ah', 'simple', 'as', 'Do', 'Re', 'Mi']\n",
      "['a', 'b', 'c', 'one', 'two', 'three', 'you', 'and', 'me', 'girl']\n"
     ]
    }
   ],
   "source": [
    "song(j5)"
   ]
  },
  {
   "cell_type": "code",
   "execution_count": 38,
   "id": "f70ce310",
   "metadata": {},
   "outputs": [],
   "source": [
    "# A list of tuples\n",
    "# (Set Name, # of Pieces)\n",
    "# Dumb data\n",
    "\n",
    "my_sets = [('75192: Millennium Falcon', 7541), ('71043: Hogwarts Castle', 6020), ('10256: Taj Mahal', 5923), \n",
    "           ('75978: Diagon Alley', 5544), ('70620: NINJAGO City', 4867), ('75827: Firehouse Headquarters', 4634), \n",
    "           ('10214: Tower Bridge', 4287), ('10253: Big Ben', 4163), ('10261: Roller Coaster', 4124), \n",
    "           ('71040: Disney Castle', 4080), ('42082: Rough Terrain Crane', 4057), ('10255: Assembly Square', 4002)]"
   ]
  },
  {
   "cell_type": "code",
   "execution_count": 39,
   "id": "0b8a26c9",
   "metadata": {},
   "outputs": [],
   "source": [
    "# Function that filters data based number of pieces\n",
    "# 4 lines of code\n",
    "\n",
    "def more(x, y = my_sets):\n",
    "    for lset in my_sets:\n",
    "        l = lambda a, b: a[1] >= b\n",
    "        if l(lset,x):\n",
    "            print(lset)"
   ]
  },
  {
   "cell_type": "code",
   "execution_count": 41,
   "id": "54eae002",
   "metadata": {},
   "outputs": [
    {
     "name": "stdout",
     "output_type": "stream",
     "text": [
      "('75192: Millennium Falcon', 7541)\n",
      "('71043: Hogwarts Castle', 6020)\n",
      "('10256: Taj Mahal', 5923)\n",
      "('75978: Diagon Alley', 5544)\n",
      "('70620: NINJAGO City', 4867)\n",
      "('75827: Firehouse Headquarters', 4634)\n",
      "('10214: Tower Bridge', 4287)\n",
      "('10253: Big Ben', 4163)\n",
      "('10261: Roller Coaster', 4124)\n",
      "('71040: Disney Castle', 4080)\n",
      "('42082: Rough Terrain Crane', 4057)\n",
      "('10255: Assembly Square', 4002)\n"
     ]
    }
   ],
   "source": [
    "more(300)"
   ]
  },
  {
   "cell_type": "code",
   "execution_count": 42,
   "id": "34ba3160",
   "metadata": {},
   "outputs": [],
   "source": [
    "# Function that filters data based number of pieces?\n",
    "# 3 lines\n",
    "# Is this better?\n",
    "\n",
    "def more_than(x, y = my_sets):\n",
    "    for lset in y:\n",
    "        if lset[1] >= x:\n",
    "            print(lset)"
   ]
  },
  {
   "cell_type": "code",
   "execution_count": 44,
   "id": "829ae96f",
   "metadata": {},
   "outputs": [
    {
     "name": "stdout",
     "output_type": "stream",
     "text": [
      "('75192: Millennium Falcon', 7541)\n",
      "('71043: Hogwarts Castle', 6020)\n",
      "('10256: Taj Mahal', 5923)\n",
      "('75978: Diagon Alley', 5544)\n",
      "('70620: NINJAGO City', 4867)\n",
      "('75827: Firehouse Headquarters', 4634)\n",
      "('10214: Tower Bridge', 4287)\n",
      "('10253: Big Ben', 4163)\n",
      "('10261: Roller Coaster', 4124)\n",
      "('71040: Disney Castle', 4080)\n",
      "('42082: Rough Terrain Crane', 4057)\n",
      "('10255: Assembly Square', 4002)\n"
     ]
    }
   ],
   "source": [
    "more_than(300, my_sets)"
   ]
  },
  {
   "cell_type": "code",
   "execution_count": null,
   "id": "84768c74",
   "metadata": {},
   "outputs": [],
   "source": [
    "# Python supports simple anonymous functions through the lambda form.\n",
    "# The executable body of the lambda must be an expression and \n",
    "# can't be a statement, which is a restriction that limits its utility. \n",
    "# The value returned by the lambda is the value of the contained expression. \n",
    "# Lambda forms can be used anywhere ordinary functions can. \n",
    "# However these restrictions make it a very limited version of a normal function.\n",
    "###\n",
    "# Source: https://en.wikipedia.org/wiki/Anonymous_function#Python"
   ]
  },
  {
   "cell_type": "code",
   "execution_count": null,
   "id": "3c760096",
   "metadata": {},
   "outputs": [],
   "source": []
  },
  {
   "cell_type": "code",
   "execution_count": null,
   "id": "289d1a88",
   "metadata": {},
   "outputs": [],
   "source": []
  }
 ],
 "metadata": {
  "kernelspec": {
   "display_name": "Python 3",
   "language": "python",
   "name": "python3"
  },
  "language_info": {
   "codemirror_mode": {
    "name": "ipython",
    "version": 3
   },
   "file_extension": ".py",
   "mimetype": "text/x-python",
   "name": "python",
   "nbconvert_exporter": "python",
   "pygments_lexer": "ipython3",
   "version": "3.8.8"
  }
 },
 "nbformat": 4,
 "nbformat_minor": 5
}
