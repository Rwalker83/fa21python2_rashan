{
 "cells": [
  {
   "cell_type": "code",
   "execution_count": null,
   "id": "f505649e",
   "metadata": {},
   "outputs": [],
   "source": [
    "def double_f(x):\n",
    "    return x * 2"
   ]
  },
  {
   "cell_type": "code",
   "execution_count": null,
   "id": "01d887d9",
   "metadata": {},
   "outputs": [],
   "source": [
    "double_f(10)"
   ]
  },
  {
   "cell_type": "code",
   "execution_count": null,
   "id": "c168ef0c",
   "metadata": {},
   "outputs": [],
   "source": [
    "def double(x = 2):\n",
    "    return lambda x: x * 2"
   ]
  },
  {
   "cell_type": "code",
   "execution_count": null,
   "id": "dd7c6131",
   "metadata": {},
   "outputs": [],
   "source": [
    "double(2)"
   ]
  },
  {
   "cell_type": "code",
   "execution_count": null,
   "id": "3d6deebb",
   "metadata": {},
   "outputs": [],
   "source": []
  },
  {
   "cell_type": "code",
   "execution_count": null,
   "id": "4068b440",
   "metadata": {},
   "outputs": [],
   "source": []
  },
  {
   "cell_type": "code",
   "execution_count": null,
   "id": "8668811d",
   "metadata": {},
   "outputs": [],
   "source": []
  },
  {
   "cell_type": "code",
   "execution_count": null,
   "id": "de305c36",
   "metadata": {},
   "outputs": [],
   "source": []
  },
  {
   "cell_type": "code",
   "execution_count": null,
   "id": "33e6abd4",
   "metadata": {},
   "outputs": [],
   "source": []
  },
  {
   "cell_type": "code",
   "execution_count": null,
   "id": "3ea44654",
   "metadata": {},
   "outputs": [],
   "source": []
  },
  {
   "cell_type": "code",
   "execution_count": null,
   "id": "b4615da8",
   "metadata": {},
   "outputs": [],
   "source": []
  },
  {
   "cell_type": "code",
   "execution_count": null,
   "id": "c6f7c802",
   "metadata": {},
   "outputs": [],
   "source": []
  },
  {
   "cell_type": "code",
   "execution_count": null,
   "id": "ccf80502",
   "metadata": {},
   "outputs": [],
   "source": []
  },
  {
   "cell_type": "code",
   "execution_count": null,
   "id": "05074b41",
   "metadata": {},
   "outputs": [],
   "source": [
    "j5 = [3, 2, 1, 'as', 'easy', 'c', 'b', 'a']"
   ]
  },
  {
   "cell_type": "code",
   "execution_count": null,
   "id": "d2dacc94",
   "metadata": {},
   "outputs": [],
   "source": [
    "j5"
   ]
  },
  {
   "cell_type": "code",
   "execution_count": null,
   "id": "a2e28e46",
   "metadata": {},
   "outputs": [],
   "source": [
    "verse = lambda y: print(y[::-1])"
   ]
  },
  {
   "cell_type": "code",
   "execution_count": null,
   "id": "34b89d7b",
   "metadata": {},
   "outputs": [],
   "source": [
    "verse(j5)"
   ]
  },
  {
   "cell_type": "code",
   "execution_count": null,
   "id": "ebe2ff32",
   "metadata": {},
   "outputs": [],
   "source": [
    "def yoda_f(x, z, y):\n",
    "    print(f'{x} {y} {z}.')"
   ]
  },
  {
   "cell_type": "code",
   "execution_count": null,
   "id": "4aa3e1f7",
   "metadata": {},
   "outputs": [],
   "source": [
    "yoda_f('I', 'python', 'like')"
   ]
  },
  {
   "cell_type": "code",
   "execution_count": null,
   "id": "80f3e4e5",
   "metadata": {},
   "outputs": [],
   "source": [
    "yoda = lambda x, z, y: print(f'{x} {y} {z}.')"
   ]
  },
  {
   "cell_type": "code",
   "execution_count": null,
   "id": "093413b9",
   "metadata": {},
   "outputs": [],
   "source": [
    "yoda(\"I\", \"python\",\"like\")"
   ]
  },
  {
   "cell_type": "code",
   "execution_count": null,
   "id": "f70ce310",
   "metadata": {},
   "outputs": [],
   "source": [
    "my_sets = [('75192: Millennium Falcon', 7541), ('71043: Hogwarts Castle', 6020), ('10256: Taj Mahal', 5923), \n",
    "           ('75978: Diagon Alley', 5544), ('70620: NINJAGO City', 4867), ('75827: Firehouse Headquarters', 4634), \n",
    "           ('10214: Tower Bridge', 4287), ('10253: Big Ben', 4163), ('10261: Roller Coaster', 4124), \n",
    "           ('71040: Disney Castle', 4080), ('42082: Rough Terrain Crane', 4057), ('10255: Assembly Square', 4002)]"
   ]
  },
  {
   "cell_type": "code",
   "execution_count": null,
   "id": "0b8a26c9",
   "metadata": {},
   "outputs": [],
   "source": [
    "def more(x, y = my_sets):\n",
    "    for lset in my_sets:\n",
    "        l = lambda a, b: a[1] >= b\n",
    "        if l(lset,x):\n",
    "            print(lset)"
   ]
  },
  {
   "cell_type": "code",
   "execution_count": null,
   "id": "54eae002",
   "metadata": {},
   "outputs": [],
   "source": [
    "more(5000)"
   ]
  },
  {
   "cell_type": "code",
   "execution_count": null,
   "id": "34ba3160",
   "metadata": {},
   "outputs": [],
   "source": [
    "def more_than(x, y = my_sets):\n",
    "    for lset in y:\n",
    "        if lset[1] >= x:\n",
    "            print(lset)"
   ]
  },
  {
   "cell_type": "code",
   "execution_count": null,
   "id": "829ae96f",
   "metadata": {},
   "outputs": [],
   "source": [
    "more_than(5000, my_sets)"
   ]
  }
 ],
 "metadata": {
  "kernelspec": {
   "display_name": "Python 3",
   "language": "python",
   "name": "python3"
  },
  "language_info": {
   "codemirror_mode": {
    "name": "ipython",
    "version": 3
   },
   "file_extension": ".py",
   "mimetype": "text/x-python",
   "name": "python",
   "nbconvert_exporter": "python",
   "pygments_lexer": "ipython3",
   "version": "3.8.8"
  }
 },
 "nbformat": 4,
 "nbformat_minor": 5
}
