{
 "cells": [
  {
   "cell_type": "code",
   "execution_count": null,
   "id": "ad66758b",
   "metadata": {},
   "outputs": [],
   "source": [
    "# A lambda function is a small anonymous function.\n",
    "# A lambda function can take any number of arguments, but can only have one expression.\n",
    "###\n",
    "# Source: https://www.w3schools.com/python/python_lambda.asp\n",
    "\n",
    "# Python supports simple anonymous functions through the lambda form.\n",
    "# The executable body of the lambda must be an expression and (censored). \n",
    "# The value returned by the lambda is the value of the contained expression. \n",
    "# Lambda forms can be used anywhere ordinary functions can.\n",
    "###\n",
    "# Source: https://en.wikipedia.org/wiki/Anonymous_function#Python"
   ]
  },
  {
   "cell_type": "code",
   "execution_count": null,
   "id": "f505649e",
   "metadata": {},
   "outputs": [],
   "source": [
    "# Regular Function\n",
    "# Same ol, Same old\n",
    "def double_f(x):\n",
    "    return x * 2"
   ]
  },
  {
   "cell_type": "code",
   "execution_count": null,
   "id": "01d887d9",
   "metadata": {},
   "outputs": [],
   "source": [
    "double_f(10)"
   ]
  },
  {
   "cell_type": "code",
   "execution_count": null,
   "id": "c168ef0c",
   "metadata": {},
   "outputs": [],
   "source": [
    "# Function with lambda\n",
    "# What happens?\n",
    "def double(n = 2):\n",
    "    return lambda x: x * n"
   ]
  },
  {
   "cell_type": "code",
   "execution_count": null,
   "id": "dd7c6131",
   "metadata": {},
   "outputs": [],
   "source": [
    "double()"
   ]
  },
  {
   "cell_type": "code",
   "execution_count": null,
   "id": "d0eb4099",
   "metadata": {},
   "outputs": [],
   "source": []
  },
  {
   "cell_type": "code",
   "execution_count": null,
   "id": "b3a05c82",
   "metadata": {},
   "outputs": [],
   "source": []
  },
  {
   "cell_type": "code",
   "execution_count": null,
   "id": "341b116a",
   "metadata": {},
   "outputs": [],
   "source": [
    "### Create a lambda that add 2 to number ((x=2)+2 = 4)"
   ]
  },
  {
   "cell_type": "code",
   "execution_count": null,
   "id": "b163c398",
   "metadata": {},
   "outputs": [],
   "source": []
  },
  {
   "cell_type": "code",
   "execution_count": null,
   "id": "1b12e848",
   "metadata": {},
   "outputs": [],
   "source": []
  },
  {
   "cell_type": "code",
   "execution_count": null,
   "id": "d9847f44",
   "metadata": {},
   "outputs": [],
   "source": [
    "# Yoda translator\n",
    "# Another simple function\n",
    "\n",
    "def yoda_f(x, z, y):\n",
    "    print(f'{x} {y} {z}.')"
   ]
  },
  {
   "cell_type": "code",
   "execution_count": null,
   "id": "6e689252",
   "metadata": {},
   "outputs": [],
   "source": [
    "yoda_f('I', 'python', 'like')"
   ]
  },
  {
   "cell_type": "code",
   "execution_count": null,
   "id": "57dee204",
   "metadata": {},
   "outputs": [],
   "source": []
  },
  {
   "cell_type": "code",
   "execution_count": null,
   "id": "18ec222d",
   "metadata": {},
   "outputs": [],
   "source": [
    "yoda(\"I\", \"python\",\"like\")"
   ]
  },
  {
   "cell_type": "code",
   "execution_count": null,
   "id": "1c760b83",
   "metadata": {},
   "outputs": [],
   "source": []
  },
  {
   "cell_type": "code",
   "execution_count": null,
   "id": "e1648f5b",
   "metadata": {},
   "outputs": [],
   "source": []
  },
  {
   "cell_type": "code",
   "execution_count": null,
   "id": "b1887cf3",
   "metadata": {},
   "outputs": [],
   "source": [
    "### Create a lamda that uses more than 1 variable (Can be addition)"
   ]
  },
  {
   "cell_type": "code",
   "execution_count": null,
   "id": "a35d0289",
   "metadata": {},
   "outputs": [],
   "source": []
  },
  {
   "cell_type": "code",
   "execution_count": null,
   "id": "a0421715",
   "metadata": {},
   "outputs": [],
   "source": []
  },
  {
   "cell_type": "code",
   "execution_count": null,
   "id": "05074b41",
   "metadata": {},
   "outputs": [],
   "source": [
    "# A simple list of strings\n",
    "# Just a part of a sing you may have heard of\n",
    "\n",
    "j5_1 = [3, 2, 1, 'as', 'easy', 'c', 'b', 'a']"
   ]
  },
  {
   "cell_type": "code",
   "execution_count": null,
   "id": "d2dacc94",
   "metadata": {},
   "outputs": [],
   "source": []
  },
  {
   "cell_type": "code",
   "execution_count": null,
   "id": "5d9e5c21",
   "metadata": {},
   "outputs": [],
   "source": []
  },
  {
   "cell_type": "code",
   "execution_count": null,
   "id": "b4b5620a",
   "metadata": {},
   "outputs": [],
   "source": []
  },
  {
   "cell_type": "code",
   "execution_count": null,
   "id": "71a36b96",
   "metadata": {},
   "outputs": [],
   "source": []
  },
  {
   "cell_type": "code",
   "execution_count": null,
   "id": "76c460cc",
   "metadata": {},
   "outputs": [],
   "source": []
  },
  {
   "cell_type": "code",
   "execution_count": null,
   "id": "9fbd5e4e",
   "metadata": {},
   "outputs": [],
   "source": [
    "# Another simple list of strings\n",
    "j5_2 = ['Mi', 'Re', 'Do', 'as', 'simple', 'Ah']"
   ]
  },
  {
   "cell_type": "code",
   "execution_count": null,
   "id": "7c710e43",
   "metadata": {},
   "outputs": [],
   "source": [
    "# Another simple list of strings\n",
    "j5_3 = ['girl', 'me', 'and', 'you', 'three', 'two', 'one', 'c', 'b', 'a']"
   ]
  },
  {
   "cell_type": "code",
   "execution_count": null,
   "id": "552bcaae",
   "metadata": {},
   "outputs": [],
   "source": [
    "j5 = [j5_1, j5_2, j5_3]"
   ]
  },
  {
   "cell_type": "code",
   "execution_count": null,
   "id": "a38d7e90",
   "metadata": {},
   "outputs": [],
   "source": [
    "def song(x):\n",
    "    verse = lambda y: print(y[::-1])\n",
    "    for y in x:\n",
    "        verse(y)\n",
    "        "
   ]
  },
  {
   "cell_type": "code",
   "execution_count": null,
   "id": "a2e28e46",
   "metadata": {},
   "outputs": [],
   "source": [
    "song(j5)"
   ]
  },
  {
   "cell_type": "code",
   "execution_count": null,
   "id": "f70ce310",
   "metadata": {},
   "outputs": [],
   "source": [
    "# A list of tuples\n",
    "# (Set Name, # of Pieces)\n",
    "# Dumb data\n",
    "\n",
    "my_sets = [('75192: Millennium Falcon', 7541), ('71043: Hogwarts Castle', 6020), ('10256: Taj Mahal', 5923), \n",
    "           ('75978: Diagon Alley', 5544), ('70620: NINJAGO City', 4867), ('75827: Firehouse Headquarters', 4634), \n",
    "           ('10214: Tower Bridge', 4287), ('10253: Big Ben', 4163), ('10261: Roller Coaster', 4124), \n",
    "           ('71040: Disney Castle', 4080), ('42082: Rough Terrain Crane', 4057), ('10255: Assembly Square', 4002)]"
   ]
  },
  {
   "cell_type": "code",
   "execution_count": null,
   "id": "0b8a26c9",
   "metadata": {},
   "outputs": [],
   "source": [
    "# Function that filters data based number of pieces\n",
    "# 4 lines of code\n",
    "\n",
    "def more(x, y = my_sets):\n",
    "    for lset in my_sets:\n",
    "        l = lambda a, b: a[1] >= b\n",
    "        if l(lset,x):\n",
    "            print(lset)"
   ]
  },
  {
   "cell_type": "code",
   "execution_count": null,
   "id": "54eae002",
   "metadata": {},
   "outputs": [],
   "source": [
    "more(5000)"
   ]
  },
  {
   "cell_type": "code",
   "execution_count": null,
   "id": "34ba3160",
   "metadata": {},
   "outputs": [],
   "source": [
    "# Function that filters data based number of pieces?\n",
    "# 3 lines\n",
    "# Is this better?\n",
    "\n",
    "def more_than(x, y = my_sets):\n",
    "    for lset in y:\n",
    "        if lset[1] >= x:\n",
    "            print(lset)"
   ]
  },
  {
   "cell_type": "code",
   "execution_count": null,
   "id": "829ae96f",
   "metadata": {},
   "outputs": [],
   "source": [
    "more_than(5000, my_sets)"
   ]
  },
  {
   "cell_type": "code",
   "execution_count": null,
   "id": "d7e4c019",
   "metadata": {},
   "outputs": [],
   "source": [
    "# Python supports simple anonymous functions through the lambda form.\n",
    "# The executable body of the lambda must be an expression and \n",
    "# can't be a statement, which is a restriction that limits its utility. \n",
    "# The value returned by the lambda is the value of the contained expression. \n",
    "# Lambda forms can be used anywhere ordinary functions can. \n",
    "# However these restrictions make it a very limited version of a normal function.\n",
    "###\n",
    "# Source: https://en.wikipedia.org/wiki/Anonymous_function#Python"
   ]
  },
  {
   "cell_type": "code",
   "execution_count": null,
   "id": "00f29302",
   "metadata": {},
   "outputs": [],
   "source": []
  }
 ],
 "metadata": {
  "kernelspec": {
   "display_name": "Python 3",
   "language": "python",
   "name": "python3"
  },
  "language_info": {
   "codemirror_mode": {
    "name": "ipython",
    "version": 3
   },
   "file_extension": ".py",
   "mimetype": "text/x-python",
   "name": "python",
   "nbconvert_exporter": "python",
   "pygments_lexer": "ipython3",
   "version": "3.8.8"
  }
 },
 "nbformat": 4,
 "nbformat_minor": 5
}
