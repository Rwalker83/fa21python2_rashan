{
 "cells": [
  {
   "cell_type": "code",
   "execution_count": null,
   "id": "649f9006",
   "metadata": {},
   "outputs": [],
   "source": [
    "# A lambda function is a small anonymous function.\n",
    "# A lambda function can take any number of arguments, but can only have one expression.\n",
    "# Source: https://www.w3schools.com/python/python_lambda.asp\n",
    "\n",
    "# Python supports simple anonymous functions through the lambda form.\n",
    "# The executable body of the lambda must be an expression and (censored). \n",
    "# The value returned by the lambda is the value of the contained expression. \n",
    "# Lambda forms can be used anywhere ordinary functions can.\n",
    "# Source: https://en.wikipedia.org/wiki/Anonymous_function#Python"
   ]
  },
  {
   "cell_type": "code",
   "execution_count": null,
   "id": "f505649e",
   "metadata": {},
   "outputs": [],
   "source": [
    "# Regular Funcation\n",
    "def double_f(x):\n",
    "    return x * 2"
   ]
  },
  {
   "cell_type": "code",
   "execution_count": null,
   "id": "8d5b9fcb",
   "metadata": {},
   "outputs": [],
   "source": []
  },
  {
   "cell_type": "code",
   "execution_count": null,
   "id": "01d887d9",
   "metadata": {},
   "outputs": [],
   "source": [
    "double_f(10)"
   ]
  },
  {
   "cell_type": "code",
   "execution_count": null,
   "id": "c168ef0c",
   "metadata": {},
   "outputs": [],
   "source": [
    "# Funcation with lambda\n",
    "def double(x = 2):\n",
    "    return lambda x: x * 2"
   ]
  },
  {
   "cell_type": "code",
   "execution_count": null,
   "id": "dd7c6131",
   "metadata": {},
   "outputs": [],
   "source": [
    "double(2)"
   ]
  },
  {
   "cell_type": "code",
   "execution_count": null,
   "id": "fb2d6792",
   "metadata": {},
   "outputs": [],
   "source": []
  },
  {
   "cell_type": "code",
   "execution_count": null,
   "id": "4068b440",
   "metadata": {},
   "outputs": [],
   "source": []
  },
  {
   "cell_type": "code",
   "execution_count": null,
   "id": "03e916ea",
   "metadata": {},
   "outputs": [],
   "source": []
  },
  {
   "cell_type": "code",
   "execution_count": null,
   "id": "f26acdd7",
   "metadata": {},
   "outputs": [],
   "source": []
  },
  {
   "cell_type": "code",
   "execution_count": null,
   "id": "56ef8688",
   "metadata": {},
   "outputs": [],
   "source": []
  },
  {
   "cell_type": "code",
   "execution_count": null,
   "id": "865061b5",
   "metadata": {},
   "outputs": [],
   "source": []
  },
  {
   "cell_type": "code",
   "execution_count": null,
   "id": "f4e593a7",
   "metadata": {},
   "outputs": [],
   "source": []
  },
  {
   "cell_type": "code",
   "execution_count": null,
   "id": "f92a1995",
   "metadata": {},
   "outputs": [],
   "source": []
  },
  {
   "cell_type": "code",
   "execution_count": null,
   "id": "ad20ab44",
   "metadata": {},
   "outputs": [],
   "source": []
  },
  {
   "cell_type": "code",
   "execution_count": 8,
   "id": "05074b41",
   "metadata": {},
   "outputs": [],
   "source": [
    "# Just a part of a sing you may have heard of\n",
    "\n",
    "j5_1 = [3, 2, 1, 'as', 'easy', 'c', 'b', 'a']"
   ]
  },
  {
   "cell_type": "code",
   "execution_count": null,
   "id": "d2dacc94",
   "metadata": {},
   "outputs": [],
   "source": []
  },
  {
   "cell_type": "code",
   "execution_count": null,
   "id": "9459345a",
   "metadata": {},
   "outputs": [],
   "source": []
  },
  {
   "cell_type": "code",
   "execution_count": 18,
   "id": "5932b544",
   "metadata": {},
   "outputs": [],
   "source": [
    "j5_2 = ['Mi', 'Re', 'Do', 'as', 'simple', 'Ah']"
   ]
  },
  {
   "cell_type": "code",
   "execution_count": 19,
   "id": "5f340586",
   "metadata": {},
   "outputs": [],
   "source": [
    "j5_3 = ['girl', 'me', 'and', 'you', 'three', 'two', 'one', 'c', 'b', 'a']"
   ]
  },
  {
   "cell_type": "code",
   "execution_count": null,
   "id": "42026976",
   "metadata": {},
   "outputs": [],
   "source": []
  },
  {
   "cell_type": "code",
   "execution_count": null,
   "id": "40ebe8b0",
   "metadata": {},
   "outputs": [],
   "source": []
  },
  {
   "cell_type": "code",
   "execution_count": null,
   "id": "8b8b5eaf",
   "metadata": {},
   "outputs": [],
   "source": []
  },
  {
   "cell_type": "code",
   "execution_count": null,
   "id": "09fa0f28",
   "metadata": {},
   "outputs": [],
   "source": []
  },
  {
   "cell_type": "code",
   "execution_count": 20,
   "id": "0f9ba26e",
   "metadata": {},
   "outputs": [],
   "source": [
    "j5 = [j5_1, j5_2, j5_3]"
   ]
  },
  {
   "cell_type": "code",
   "execution_count": 21,
   "id": "a11bda10",
   "metadata": {},
   "outputs": [],
   "source": [
    "def song(x):\n",
    "    verse = lambda y: print(y[::-1])\n",
    "    for y in x:\n",
    "        verse(y)\n",
    "        "
   ]
  },
  {
   "cell_type": "code",
   "execution_count": 22,
   "id": "a2e28e46",
   "metadata": {},
   "outputs": [
    {
     "name": "stdout",
     "output_type": "stream",
     "text": [
      "['a', 'b', 'c', 'easy', 'as', 1, 2, 3]\n",
      "['Ah', 'simple', 'as', 'Do', 'Re', 'Mi']\n",
      "['a', 'b', 'c', 'one', 'two', 'three', 'you', 'and', 'me', 'girl']\n"
     ]
    }
   ],
   "source": []
  },
  {
   "cell_type": "code",
   "execution_count": null,
   "id": "c878580e",
   "metadata": {},
   "outputs": [],
   "source": []
  },
  {
   "cell_type": "code",
   "execution_count": null,
   "id": "09d3388c",
   "metadata": {},
   "outputs": [],
   "source": []
  },
  {
   "cell_type": "code",
   "execution_count": null,
   "id": "4a4c0142",
   "metadata": {},
   "outputs": [],
   "source": []
  },
  {
   "cell_type": "code",
   "execution_count": null,
   "id": "10b8fb5b",
   "metadata": {},
   "outputs": [],
   "source": []
  },
  {
   "cell_type": "code",
   "execution_count": null,
   "id": "18067810",
   "metadata": {},
   "outputs": [],
   "source": []
  },
  {
   "cell_type": "code",
   "execution_count": null,
   "id": "10488e48",
   "metadata": {},
   "outputs": [],
   "source": []
  },
  {
   "cell_type": "code",
   "execution_count": null,
   "id": "ebe2ff32",
   "metadata": {},
   "outputs": [],
   "source": [
    "# Yoda translator\n",
    "\n",
    "def yoda_f(x, z, y):\n",
    "    print(f'{x} {y} {z}.')"
   ]
  },
  {
   "cell_type": "code",
   "execution_count": null,
   "id": "4aa3e1f7",
   "metadata": {},
   "outputs": [],
   "source": [
    "yoda_f('I', 'python', 'like')"
   ]
  },
  {
   "cell_type": "code",
   "execution_count": null,
   "id": "80f3e4e5",
   "metadata": {},
   "outputs": [],
   "source": [
    "yoda = lambda x, z, y: print(f'{x} {y} {z}.')"
   ]
  },
  {
   "cell_type": "code",
   "execution_count": null,
   "id": "093413b9",
   "metadata": {},
   "outputs": [],
   "source": [
    "yoda(\"I\", \"python\",\"like\")"
   ]
  },
  {
   "cell_type": "code",
   "execution_count": null,
   "id": "f70ce310",
   "metadata": {},
   "outputs": [],
   "source": [
    "# Dumb data\n",
    "\n",
    "my_sets = [('75192: Millennium Falcon', 7541), ('71043: Hogwarts Castle', 6020), ('10256: Taj Mahal', 5923), \n",
    "           ('75978: Diagon Alley', 5544), ('70620: NINJAGO City', 4867), ('75827: Firehouse Headquarters', 4634), \n",
    "           ('10214: Tower Bridge', 4287), ('10253: Big Ben', 4163), ('10261: Roller Coaster', 4124), \n",
    "           ('71040: Disney Castle', 4080), ('42082: Rough Terrain Crane', 4057), ('10255: Assembly Square', 4002)]"
   ]
  },
  {
   "cell_type": "code",
   "execution_count": null,
   "id": "0b8a26c9",
   "metadata": {},
   "outputs": [],
   "source": [
    "# Funcation need more parts with lambda\n",
    "\n",
    "def more(x, y = my_sets):\n",
    "    for lset in my_sets:\n",
    "        l = lambda a, b: a[1] >= b\n",
    "        if l(lset,x):\n",
    "            print(lset)"
   ]
  },
  {
   "cell_type": "code",
   "execution_count": null,
   "id": "54eae002",
   "metadata": {},
   "outputs": [],
   "source": [
    "more(5000)"
   ]
  },
  {
   "cell_type": "code",
   "execution_count": null,
   "id": "34ba3160",
   "metadata": {},
   "outputs": [],
   "source": [
    "# Funcation need more parts (better)?\n",
    "\n",
    "def more_than(x, y = my_sets):\n",
    "    for lset in y:\n",
    "        if lset[1] >= x:\n",
    "            print(lset)"
   ]
  },
  {
   "cell_type": "code",
   "execution_count": null,
   "id": "829ae96f",
   "metadata": {},
   "outputs": [],
   "source": [
    "more_than(5000, my_sets)"
   ]
  }
 ],
 "metadata": {
  "kernelspec": {
   "display_name": "Python 3",
   "language": "python",
   "name": "python3"
  },
  "language_info": {
   "codemirror_mode": {
    "name": "ipython",
    "version": 3
   },
   "file_extension": ".py",
   "mimetype": "text/x-python",
   "name": "python",
   "nbconvert_exporter": "python",
   "pygments_lexer": "ipython3",
   "version": "3.8.8"
  }
 },
 "nbformat": 4,
 "nbformat_minor": 5
}
