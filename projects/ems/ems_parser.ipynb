{
 "cells": [
  {
   "cell_type": "code",
   "execution_count": 1,
   "id": "fae23fb9",
   "metadata": {},
   "outputs": [],
   "source": [
    "import csv"
   ]
  },
  {
   "cell_type": "code",
   "execution_count": 2,
   "id": "33ea2084",
   "metadata": {},
   "outputs": [],
   "source": [
    "def iterate_EMS_records(file_path):\n",
    "    '''\n",
    "    Retrieve each record from a CSV of EMS records from the filepath\n",
    "    \n",
    "    Intended for use with the WPRDC's record of EMS dispatches\n",
    "    in Allegheny County and will provide a dictionary of each record\n",
    "    for use by processing functions\n",
    "    '''\n",
    "    # Open file at filepath\n",
    "    # Use for loop over each record\n",
    "    # Output: A list of dictionaries\n",
    "    global raw_data_ems\n",
    "    with open(file_path) as file_s0:\n",
    "        file = csv.DictReader(file_s0, delimiter=',')\n",
    "        raw_data_ems_s0 = []\n",
    "        for row in file:\n",
    "            raw_data_ems_s0.append(row)\n",
    "        raw_data_ems = raw_data_ems_s0"
   ]
  },
  {
   "cell_type": "code",
   "execution_count": 3,
   "id": "33736395",
   "metadata": {},
   "outputs": [],
   "source": [
    "def test_for_redacted_description(ems_rec):\n",
    "    '''\n",
    "    Examine EMS dispatch record and look for redacted or blank\n",
    "    descriptions\n",
    "    '''\n",
    "    \n",
    "    # Description must be spelled \"description_short\"\n",
    "    # Output: A list of dictionaries of redacated accounts \n",
    "    global ems_redacted\n",
    "    ems_redacted_s0 = []\n",
    "    for record in ems_rec:\n",
    "        if record['description_short'] == \"Removed\" or record['description_short'] == \"\":\n",
    "            ems_redacted_s0.append(record)\n",
    "    ems_redacted = ems_redacted_s0\n",
    "    "
   ]
  },
  {
   "cell_type": "code",
   "execution_count": 4,
   "id": "d63c2337",
   "metadata": {},
   "outputs": [],
   "source": [
    "def year_total(year):\n",
    "    '''\n",
    "\n",
    "    '''\n",
    "    \n",
    "    global ems_year\n",
    "    if str(year) in ems_year:\n",
    "        year_value = ems_year[str(year)]\n",
    "        year_value += 1\n",
    "        total = ems_year['Total']\n",
    "        total += 1\n",
    "        ems_year.update({str(year): year_value, 'Total': total})\n",
    "    else:\n",
    "        year_value = 1\n",
    "        total = ems_year['Total']\n",
    "        total += 1\n",
    "        ems_year.update({str(year): year_value, 'Total': total})"
   ]
  },
  {
   "cell_type": "code",
   "execution_count": 12,
   "id": "d254b11a",
   "metadata": {},
   "outputs": [],
   "source": [
    "def year(data):\n",
    "    '''\n",
    "    \n",
    "    '''\n",
    "    \n",
    "    global ems_year\n",
    "    ems_year = {'Total':0}\n",
    "    for record in data:\n",
    "        year_total(record['call_year'])\n"
   ]
  },
  {
   "cell_type": "code",
   "execution_count": 15,
   "id": "5d4ed1e9",
   "metadata": {},
   "outputs": [],
   "source": [
    "def red_year_total(redaction_year):\n",
    "    '''\n",
    "    Maintains a dictionary of counts by year passed when called\n",
    "    \n",
    "    Assumes that each call corresponds with a single record\n",
    "    in the EMS dispatch data set, so a call with input of '2019'\n",
    "    means, add 1 to the 2019 total of redacted records\n",
    "    '''\n",
    "    \n",
    "    global ems_red_year\n",
    "    if str(redaction_year) in ems_red_year:\n",
    "        year_value = ems_red_year[str(redaction_year)]\n",
    "        year_value += 1\n",
    "        total = ems_red_year['Total']\n",
    "        total += 1\n",
    "        ems_red_year.update({str(redaction_year): year_value, 'Total': total})\n",
    "    else:\n",
    "        year_value = 1\n",
    "        total = ems_red_year['Total']\n",
    "        total += 1\n",
    "        ems_red_year.update({str(redaction_year): year_value, 'Total': total})"
   ]
  },
  {
   "cell_type": "code",
   "execution_count": 16,
   "id": "6946670c",
   "metadata": {},
   "outputs": [],
   "source": [
    "def red_year(data):\n",
    "    '''\n",
    "    \n",
    "    '''\n",
    "    \n",
    "    global ems_red_year\n",
    "    ems_red_year = {'Total':0}\n",
    "    for record in data:\n",
    "        red_year_total(record['call_year'])\n",
    "    "
   ]
  },
  {
   "cell_type": "code",
   "execution_count": null,
   "id": "3a5043ac",
   "metadata": {},
   "outputs": [],
   "source": [
    "def write_redacted_rec_to_log(ems_rec):\n",
    "    '''\n",
    "    Extract record ID and write to log file specific in global dict\n",
    "    '''"
   ]
  },
  {
   "cell_type": "code",
   "execution_count": null,
   "id": "65b0d0bd",
   "metadata": {},
   "outputs": [],
   "source": [
    "def display_redaction_count_by_year(year_counts):\n",
    "    '''\n",
    "    Given a dictionary of year(key):['total','redactions']\n",
    "    make a pretty output to the console\n",
    "    '''"
   ]
  },
  {
   "cell_type": "code",
   "execution_count": null,
   "id": "f131670a",
   "metadata": {},
   "outputs": [],
   "source": [
    "iterate_EMS_records('raw_data/ac_ems_300records.csv')"
   ]
  }
 ],
 "metadata": {
  "kernelspec": {
   "display_name": "Python 3",
   "language": "python",
   "name": "python3"
  },
  "language_info": {
   "codemirror_mode": {
    "name": "ipython",
    "version": 3
   },
   "file_extension": ".py",
   "mimetype": "text/x-python",
   "name": "python",
   "nbconvert_exporter": "python",
   "pygments_lexer": "ipython3",
   "version": "3.8.8"
  }
 },
 "nbformat": 4,
 "nbformat_minor": 5
}
