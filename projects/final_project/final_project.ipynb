{
 "cells": [
  {
   "cell_type": "markdown",
   "id": "05ff36f4",
   "metadata": {},
   "source": [
    "<h2>Final Project</h2>\n",
    "    <p>Lego Buying Program</p>\n",
    "    <p>Rashan Walker</p>"
   ]
  },
  {
   "cell_type": "code",
   "execution_count": 14,
   "id": "36032af9",
   "metadata": {},
   "outputs": [],
   "source": [
    "import os\n",
    "import re\n",
    "import requests\n",
    "import zipfile\n",
    "from bs4 import BeautifulSoup"
   ]
  },
  {
   "cell_type": "code",
   "execution_count": 2,
   "id": "d55b1b42",
   "metadata": {},
   "outputs": [],
   "source": [
    "headers = {'User-Agent': 'Mozilla/5.0 (Macintosh; Intel Mac OS X 10_10_1) ' \\\n",
    "           'AppleWebKit/537.36 (KHTML, like Gecko) Chrome/39.0.2171.95 Safari/537.36'}"
   ]
  },
  {
   "cell_type": "code",
   "execution_count": 3,
   "id": "e4846335",
   "metadata": {},
   "outputs": [],
   "source": [
    "# Function: remove_file\n",
    "# Purpose: Delete a file\n",
    "# Input: File path\n",
    "# Default(s): NONE\n",
    "# Output: NONE\n",
    "# Notes: (blank)\n",
    "\n",
    "def remove_file(file):\n",
    "    '''\n",
    "    Function to delete a file.\n",
    "    '''\n",
    "    try:\n",
    "        os.remove(file)\n",
    "    except Exception as error:\n",
    "        print(\"Error in function: remove_file()\")\n",
    "        print(error)"
   ]
  },
  {
   "cell_type": "code",
   "execution_count": 4,
   "id": "79d851c9",
   "metadata": {},
   "outputs": [],
   "source": [
    "# Function: show_files\n",
    "# Purpose: Show files in a folder\n",
    "# Input: System Path\n",
    "# Default(s): '.'\n",
    "# Output: NONE\n",
    "# Notes: (blank)\n",
    "\n",
    "def show_files(top = '.'):\n",
    "    '''\n",
    "    Show files in a folder\n",
    "    '''\n",
    "    try:\n",
    "        for loc, dirs, files in os.walk(top):\n",
    "            if loc == '.':\n",
    "                print('***********************************************************')\n",
    "                print('Files(s):', ', '.join(files))\n",
    "                print('***********************************************************')\n",
    "    except Exception as error:\n",
    "        print(\"Error in function: show_files()\")\n",
    "        print(error)"
   ]
  },
  {
   "cell_type": "code",
   "execution_count": 23,
   "id": "b4486851",
   "metadata": {},
   "outputs": [],
   "source": [
    "# Function: get_files()\n",
    "# Purpose: Download a file\n",
    "# Input: File Name and URL of file\n",
    "# Default(s): File type of .csv.gz\n",
    "# Output: a file (not returned), displays completion\n",
    "# Notes: (blank)\n",
    "\n",
    "def get_file(url, file_type='.csv.gz'):\n",
    "    '''\n",
    "    Purpose: Download a file\n",
    "    '''\n",
    "    path = './temp/'\n",
    "    search = re.compile(r'\\w+'+file_type)\n",
    "    file_name = re.search(search, url).group(0)\n",
    "    try:\n",
    "        r = requests.get(url, headers = headers, allow_redirects=True)\n",
    "        open(path+file_name, 'wb').write(r.content)\n",
    "        print('Download Completed:', file_name)\n",
    "    except Exception as error:\n",
    "        print(\"Error in function: get_file()\")\n",
    "        print(error)"
   ]
  },
  {
   "cell_type": "code",
   "execution_count": 6,
   "id": "65bbca3d",
   "metadata": {},
   "outputs": [
    {
     "name": "stdout",
     "output_type": "stream",
     "text": [
      "Download Completed: sets.csv.gz\n"
     ]
    }
   ],
   "source": []
  },
  {
   "cell_type": "code",
   "execution_count": 25,
   "id": "1bc0ea97",
   "metadata": {},
   "outputs": [
    {
     "name": "stdout",
     "output_type": "stream",
     "text": [
      "Download Completed: sets.csv.gz\n"
     ]
    }
   ],
   "source": [
    "get_file('https://cdn.rebrickable.com/media/downloads/sets.csv.gz?1639235936.521831')"
   ]
  },
  {
   "cell_type": "code",
   "execution_count": 16,
   "id": "9bb4cf6d",
   "metadata": {},
   "outputs": [],
   "source": []
  },
  {
   "cell_type": "code",
   "execution_count": 17,
   "id": "3fed95e8",
   "metadata": {},
   "outputs": [],
   "source": []
  },
  {
   "cell_type": "code",
   "execution_count": 21,
   "id": "a836b6c1",
   "metadata": {},
   "outputs": [],
   "source": []
  },
  {
   "cell_type": "code",
   "execution_count": 22,
   "id": "b759f9d8",
   "metadata": {},
   "outputs": [
    {
     "name": "stdout",
     "output_type": "stream",
     "text": [
      "sets.csv.gz\n"
     ]
    }
   ],
   "source": []
  },
  {
   "cell_type": "code",
   "execution_count": null,
   "id": "f5eb9217",
   "metadata": {},
   "outputs": [],
   "source": []
  }
 ],
 "metadata": {
  "kernelspec": {
   "display_name": "Python 3",
   "language": "python",
   "name": "python3"
  },
  "language_info": {
   "codemirror_mode": {
    "name": "ipython",
    "version": 3
   },
   "file_extension": ".py",
   "mimetype": "text/x-python",
   "name": "python",
   "nbconvert_exporter": "python",
   "pygments_lexer": "ipython3",
   "version": "3.8.8"
  }
 },
 "nbformat": 4,
 "nbformat_minor": 5
}
