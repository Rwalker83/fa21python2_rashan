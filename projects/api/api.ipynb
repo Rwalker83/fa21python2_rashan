{
 "cells": [
  {
   "cell_type": "code",
   "execution_count": 4,
   "id": "72ac740b",
   "metadata": {},
   "outputs": [],
   "source": [
    "import requests, json"
   ]
  },
  {
   "cell_type": "code",
   "execution_count": 2,
   "id": "f3ac91bd",
   "metadata": {},
   "outputs": [],
   "source": [
    "resp = requests.get('https://api.nhtsa.gov/products/vehicle/makes?modelYear=2021&issueType=r')"
   ]
  },
  {
   "cell_type": "code",
   "execution_count": 3,
   "id": "015ff1de",
   "metadata": {},
   "outputs": [
    {
     "name": "stdout",
     "output_type": "stream",
     "text": [
      "<Response [200]>\n"
     ]
    }
   ],
   "source": [
    "print(resp)"
   ]
  },
  {
   "cell_type": "code",
   "execution_count": 10,
   "id": "76b7c69a",
   "metadata": {},
   "outputs": [
    {
     "name": "stdout",
     "output_type": "stream",
     "text": [
      "{'count': 174, 'message': 'Results returned successfully', 'results': [{'modelYear': '2021', 'make': 'AEV'}, {'modelYear': '2021', 'make': 'AIRSTREAM'}, {'modelYear': '2021', 'make': 'ALFA ROMEO'}, {'modelYear': '2021', 'make': 'ALTEC'}, {'modelYear': '2021', 'make': 'APRILIA'}, {'modelYear': '2021', 'make': 'ARBOC'}, {'modelYear': '2021', 'make': 'ARCIMOTO'}, {'modelYear': '2021', 'make': 'ASTON MARTIN'}, {'modelYear': '2021', 'make': 'ATC ARV'}, {'modelYear': '2021', 'make': 'AUDI'}, {'modelYear': '2021', 'make': 'AUTOCAR'}, {'modelYear': '2021', 'make': 'BENTLEY'}, {'modelYear': '2021', 'make': 'BIGFOOT'}, {'modelYear': '2021', 'make': 'BLACK SERIES CAMPERS'}, {'modelYear': '2021', 'make': 'BLACK TIE'}, {'modelYear': '2021', 'make': 'BLUE BIRD'}, {'modelYear': '2021', 'make': 'BMW'}, {'modelYear': '2021', 'make': 'BOLT CUSTOM TRUCKS'}, {'modelYear': '2021', 'make': 'BRAXTON CREEK'}, {'modelYear': '2021', 'make': 'BUGATTI'}, {'modelYear': '2021', 'make': 'BUICK'}, {'modelYear': '2021', 'make': 'BWISE'}, {'modelYear': '2021', 'make': 'CADILLAC'}, {'modelYear': '2021', 'make': 'CARGO EXPRESS'}, {'modelYear': '2021', 'make': 'CARSON'}, {'modelYear': '2021', 'make': 'CHEVROLET'}, {'modelYear': '2021', 'make': 'CHRYSLER'}, {'modelYear': '2021', 'make': 'COACH HOUSE'}, {'modelYear': '2021', 'make': 'COACHMEN'}, {'modelYear': '2021', 'make': 'COTTRELL'}, {'modelYear': '2021', 'make': 'CRANE CARRIER'}, {'modelYear': '2021', 'make': 'CRESTLINE COACH'}, {'modelYear': '2021', 'make': 'CRUISER'}, {'modelYear': '2021', 'make': 'CUSTOM FIRE'}, {'modelYear': '2021', 'make': 'DEMERS AMBULANCES'}, {'modelYear': '2021', 'make': 'DENNIS EAGLE'}, {'modelYear': '2021', 'make': 'DITCH WITCH'}, {'modelYear': '2021', 'make': 'DODGE'}, {'modelYear': '2021', 'make': 'DRV'}, {'modelYear': '2021', 'make': 'DUCATI'}, {'modelYear': '2021', 'make': 'DUTCHMEN'}, {'modelYear': '2021', 'make': 'DYNAMAX'}, {'modelYear': '2021', 'make': 'E-ONE'}, {'modelYear': '2021', 'make': 'EAST MANUFACTURING'}, {'modelYear': '2021', 'make': 'EAST TO WEST'}, {'modelYear': '2021', 'make': 'ECLIPSE'}, {'modelYear': '2021', 'make': 'ELDORADO'}, {'modelYear': '2021', 'make': 'ENTEGRA'}, {'modelYear': '2021', 'make': 'ETI'}, {'modelYear': '2021', 'make': 'FCCC'}, {'modelYear': '2021', 'make': 'FLEETWOOD'}, {'modelYear': '2021', 'make': 'FORD'}, {'modelYear': '2021', 'make': 'FOREST RIVER'}, {'modelYear': '2021', 'make': 'FORETRAVEL'}, {'modelYear': '2021', 'make': 'FREIGHTLINER'}, {'modelYear': '2021', 'make': 'GENESIS'}, {'modelYear': '2021', 'make': 'GENESIS SUPREME'}, {'modelYear': '2021', 'make': 'GILLIG'}, {'modelYear': '2021', 'make': 'GMC'}, {'modelYear': '2021', 'make': 'GRAND DESIGN'}, {'modelYear': '2021', 'make': 'GREAT DANE'}, {'modelYear': '2021', 'make': 'GULF STREAM'}, {'modelYear': '2021', 'make': 'HARLEY-DAVIDSON'}, {'modelYear': '2021', 'make': \"HAULIN'\"}, {'modelYear': '2021', 'make': 'HEARTLAND'}, {'modelYear': '2021', 'make': 'HIGHLAND RIDGE'}, {'modelYear': '2021', 'make': 'HINO'}, {'modelYear': '2021', 'make': 'HME'}, {'modelYear': '2021', 'make': 'HOLIDAY RAMBLER'}, {'modelYear': '2021', 'make': 'HONDA'}, {'modelYear': '2021', 'make': 'HOST CAMPERS'}, {'modelYear': '2021', 'make': 'HYUNDAI'}, {'modelYear': '2021', 'make': 'IC BUS'}, {'modelYear': '2021', 'make': 'INFINITI'}, {'modelYear': '2021', 'make': 'INTERNATIONAL'}, {'modelYear': '2021', 'make': 'ISUZU'}, {'modelYear': '2021', 'make': 'JAGUAR'}, {'modelYear': '2021', 'make': 'JAYCO'}, {'modelYear': '2021', 'make': 'JEEP'}, {'modelYear': '2021', 'make': 'KALMAR'}, {'modelYear': '2021', 'make': 'KARAVAN'}, {'modelYear': '2021', 'make': 'KAUFMAN'}, {'modelYear': '2021', 'make': 'KAWASAKI'}, {'modelYear': '2021', 'make': 'KENWORTH'}, {'modelYear': '2021', 'make': 'KEYSTONE'}, {'modelYear': '2021', 'make': 'KIA'}, {'modelYear': '2021', 'make': 'KME'}, {'modelYear': '2021', 'make': 'KZRV'}, {'modelYear': '2021', 'make': 'LAMBORGHINI'}, {'modelYear': '2021', 'make': 'LANCE'}, {'modelYear': '2021', 'make': 'LAND ROVER'}, {'modelYear': '2021', 'make': 'LEXUS'}, {'modelYear': '2021', 'make': 'LGS INDUSTRIES'}, {'modelYear': '2021', 'make': 'LINCOLN'}, {'modelYear': '2021', 'make': 'LODE KING'}, {'modelYear': '2021', 'make': 'LOOK'}, {'modelYear': '2021', 'make': 'MACK'}, {'modelYear': '2021', 'make': 'MASERATI'}, {'modelYear': '2021', 'make': 'MAZDA'}, {'modelYear': '2021', 'make': 'MCI'}, {'modelYear': '2021', 'make': 'MERCEDES-BENZ'}, {'modelYear': '2021', 'make': 'MICRO BIRD'}, {'modelYear': '2021', 'make': 'MINI'}, {'modelYear': '2021', 'make': 'MITSUBISHI FUSO'}, {'modelYear': '2021', 'make': 'NEW FLYER'}, {'modelYear': '2021', 'make': 'NEWELL'}, {'modelYear': '2021', 'make': 'NEWMAR'}, {'modelYear': '2021', 'make': 'NISSAN'}, {'modelYear': '2021', 'make': 'NOVA BUS'}, {'modelYear': '2021', 'make': 'OSAGE'}, {'modelYear': '2021', 'make': 'OSHKOSH'}, {'modelYear': '2021', 'make': 'PACE'}, {'modelYear': '2021', 'make': 'PALFINGER'}, {'modelYear': '2021', 'make': 'PALOMINO'}, {'modelYear': '2021', 'make': 'PETERBILT'}, {'modelYear': '2021', 'make': 'PIAGGIO'}, {'modelYear': '2021', 'make': 'PIERCE'}, {'modelYear': '2021', 'make': 'PJ TRAILERS'}, {'modelYear': '2021', 'make': 'PL CUSTOM'}, {'modelYear': '2021', 'make': 'PLEASURE WAY'}, {'modelYear': '2021', 'make': 'POLARIS'}, {'modelYear': '2021', 'make': 'POLESTAR'}, {'modelYear': '2021', 'make': 'PORSCHE'}, {'modelYear': '2021', 'make': 'PREVOST'}, {'modelYear': '2021', 'make': 'PRIME TIME'}, {'modelYear': '2021', 'make': 'PROTERRA'}, {'modelYear': '2021', 'make': 'RAM'}, {'modelYear': '2021', 'make': 'RANGER TRAIL'}, {'modelYear': '2021', 'make': 'RENEGADE'}, {'modelYear': '2021', 'make': 'REV AMBULANCE'}, {'modelYear': '2021', 'make': 'ROADTREK'}, {'modelYear': '2021', 'make': 'ROLLS-ROYCE'}, {'modelYear': '2021', 'make': 'ROSENBAUER'}, {'modelYear': '2021', 'make': 'SEA-DOO'}, {'modelYear': '2021', 'make': 'SEAGRAVE'}, {'modelYear': '2021', 'make': 'SPARTAN'}, {'modelYear': '2021', 'make': 'SPARTAN FIRE'}, {'modelYear': '2021', 'make': 'STARCRAFT'}, {'modelYear': '2021', 'make': 'STARCRAFT BUS'}, {'modelYear': '2021', 'make': 'SUBARU'}, {'modelYear': '2021', 'make': 'SUTPHEN'}, {'modelYear': '2021', 'make': 'SVI TRUCKS'}, {'modelYear': '2021', 'make': 'TEMSA'}, {'modelYear': '2021', 'make': 'TEREX ADVANCE'}, {'modelYear': '2021', 'make': 'TESLA'}, {'modelYear': '2021', 'make': 'THOMAS BUILT BUSES'}, {'modelYear': '2021', 'make': 'THOR'}, {'modelYear': '2021', 'make': 'THOR MOTOR COACH'}, {'modelYear': '2021', 'make': 'THUNDER CREEK'}, {'modelYear': '2021', 'make': 'TIFFIN'}, {'modelYear': '2021', 'make': 'TOYOTA'}, {'modelYear': '2021', 'make': 'TRAIL KING'}, {'modelYear': '2021', 'make': 'TRAILSTAR'}, {'modelYear': '2021', 'make': 'TRANSCRAFT'}, {'modelYear': '2021', 'make': 'TRIPLE E'}, {'modelYear': '2021', 'make': 'TRIPLE E RV'}, {'modelYear': '2021', 'make': 'TRIUMPH'}, {'modelYear': '2021', 'make': 'TUSCANY MOTOR CO'}, {'modelYear': '2021', 'make': 'US CARGO'}, {'modelYear': '2021', 'make': 'UTILIMASTER'}, {'modelYear': '2021', 'make': 'UTILITY TRAILER'}, {'modelYear': '2021', 'make': 'VAN HOOL'}, {'modelYear': '2021', 'make': 'VANLEIGH'}, {'modelYear': '2021', 'make': 'VERMEER'}, {'modelYear': '2021', 'make': 'VOLKSWAGEN'}, {'modelYear': '2021', 'make': 'VOLVO'}, {'modelYear': '2021', 'make': 'VOLVO BUS'}, {'modelYear': '2021', 'make': 'WABASH NATIONAL'}, {'modelYear': '2021', 'make': 'WAYFARER'}, {'modelYear': '2021', 'make': 'WESTERN STAR'}, {'modelYear': '2021', 'make': 'WINNEBAGO'}, {'modelYear': '2021', 'make': 'XTREME OUTDOORS'}, {'modelYear': '2021', 'make': 'YAMAHA'}, {'modelYear': '2021', 'make': 'ZERO'}]}\n"
     ]
    }
   ],
   "source": [
    "if(int(resp.status_code) == 200):\n",
    "    objs = json.loads(resp.text)\n",
    "    print(objs)"
   ]
  },
  {
   "cell_type": "code",
   "execution_count": null,
   "id": "d67c55ee",
   "metadata": {},
   "outputs": [],
   "source": []
  }
 ],
 "metadata": {
  "kernelspec": {
   "display_name": "Python 3",
   "language": "python",
   "name": "python3"
  },
  "language_info": {
   "codemirror_mode": {
    "name": "ipython",
    "version": 3
   },
   "file_extension": ".py",
   "mimetype": "text/x-python",
   "name": "python",
   "nbconvert_exporter": "python",
   "pygments_lexer": "ipython3",
   "version": "3.8.8"
  }
 },
 "nbformat": 4,
 "nbformat_minor": 5
}
