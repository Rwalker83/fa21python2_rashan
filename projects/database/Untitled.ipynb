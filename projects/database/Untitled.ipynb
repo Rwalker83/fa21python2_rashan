{
 "cells": [
  {
   "cell_type": "code",
   "execution_count": 7,
   "id": "ea9f72e1",
   "metadata": {},
   "outputs": [],
   "source": [
    "import sqlite3\n",
    "dbconn = sqlite3.connect('recall.db')\n",
    "cursor = dbconn.cursor()\n",
    "cursor.execute(\"\"\"\n",
    "    \n",
    "    Create table if not exists\n",
    "        vehicle (\n",
    "        vehid INTEGER PRIMARY KEY,\n",
    "        model TEXT NOT NULL,\n",
    "        year INTEGER,\n",
    "        recallcount INTEGER\n",
    "        )\n",
    "    \n",
    "\"\"\")\n",
    "\n",
    "dbconn.commit()\n",
    "    "
   ]
  },
  {
   "cell_type": "code",
   "execution_count": 4,
   "id": "78e312d4",
   "metadata": {},
   "outputs": [],
   "source": [
    "import sqlite3\n",
    "dbconn = sqlite3.connect('recall.db')\n",
    "cursor = dbconn.cursor()"
   ]
  },
  {
   "cell_type": "code",
   "execution_count": null,
   "id": "d3c5e507",
   "metadata": {},
   "outputs": [],
   "source": []
  }
 ],
 "metadata": {
  "kernelspec": {
   "display_name": "Python 3",
   "language": "python",
   "name": "python3"
  },
  "language_info": {
   "codemirror_mode": {
    "name": "ipython",
    "version": 3
   },
   "file_extension": ".py",
   "mimetype": "text/x-python",
   "name": "python",
   "nbconvert_exporter": "python",
   "pygments_lexer": "ipython3",
   "version": "3.8.8"
  }
 },
 "nbformat": 4,
 "nbformat_minor": 5
}
